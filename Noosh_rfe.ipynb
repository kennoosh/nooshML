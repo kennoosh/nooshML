{
  "nbformat": 4,
  "nbformat_minor": 0,
  "metadata": {
    "colab": {
      "name": "Noosh_rfe.ipynb",
      "provenance": [],
      "collapsed_sections": []
    },
    "kernelspec": {
      "name": "python3",
      "display_name": "Python 3"
    },
    "language_info": {
      "name": "python"
    }
  },
  "cells": [
    {
      "cell_type": "markdown",
      "metadata": {
        "id": "TX7v9ckG9R1E"
      },
      "source": [
        "# Imports, quick feature engineering, and quick look at data"
      ]
    },
    {
      "cell_type": "code",
      "metadata": {
        "colab": {
          "base_uri": "https://localhost:8080/"
        },
        "id": "9KuraX5P3are",
        "outputId": "e1fe79ae-f5ea-44a2-aade-dacd318ac385"
      },
      "source": [
        "!pip install category_encoders"
      ],
      "execution_count": 1,
      "outputs": [
        {
          "output_type": "stream",
          "text": [
            "Requirement already satisfied: category_encoders in /usr/local/lib/python3.7/dist-packages (2.2.2)\n",
            "Requirement already satisfied: patsy>=0.5.1 in /usr/local/lib/python3.7/dist-packages (from category_encoders) (0.5.1)\n",
            "Requirement already satisfied: statsmodels>=0.9.0 in /usr/local/lib/python3.7/dist-packages (from category_encoders) (0.10.2)\n",
            "Requirement already satisfied: pandas>=0.21.1 in /usr/local/lib/python3.7/dist-packages (from category_encoders) (1.1.5)\n",
            "Requirement already satisfied: numpy>=1.14.0 in /usr/local/lib/python3.7/dist-packages (from category_encoders) (1.19.5)\n",
            "Requirement already satisfied: scikit-learn>=0.20.0 in /usr/local/lib/python3.7/dist-packages (from category_encoders) (0.22.2.post1)\n",
            "Requirement already satisfied: scipy>=1.0.0 in /usr/local/lib/python3.7/dist-packages (from category_encoders) (1.4.1)\n",
            "Requirement already satisfied: six in /usr/local/lib/python3.7/dist-packages (from patsy>=0.5.1->category_encoders) (1.15.0)\n",
            "Requirement already satisfied: python-dateutil>=2.7.3 in /usr/local/lib/python3.7/dist-packages (from pandas>=0.21.1->category_encoders) (2.8.1)\n",
            "Requirement already satisfied: pytz>=2017.2 in /usr/local/lib/python3.7/dist-packages (from pandas>=0.21.1->category_encoders) (2018.9)\n",
            "Requirement already satisfied: joblib>=0.11 in /usr/local/lib/python3.7/dist-packages (from scikit-learn>=0.20.0->category_encoders) (1.0.1)\n"
          ],
          "name": "stdout"
        }
      ]
    },
    {
      "cell_type": "code",
      "metadata": {
        "id": "_Q8cTZV4VBxS",
        "colab": {
          "base_uri": "https://localhost:8080/"
        },
        "outputId": "3aeb1c2e-7338-4633-aafc-f9d560fab1c0"
      },
      "source": [
        "import pandas as pd\n",
        "import numpy as np\n",
        "import matplotlib.pyplot as plt\n",
        "import seaborn as sns\n",
        "\n",
        "from category_encoders import TargetEncoder\n",
        "from sklearn.model_selection import train_test_split\n",
        "from sklearn.metrics import precision_recall_fscore_support, plot_confusion_matrix\n",
        "from imblearn.over_sampling import SMOTE\n",
        "from imblearn.under_sampling import TomekLinks, NearMiss\n",
        "from imblearn.combine import SMOTETomek\n",
        "\n",
        "from sklearn.linear_model import LogisticRegression\n",
        "from sklearn.naive_bayes import MultinomialNB\n",
        "from xgboost import XGBClassifier, plot_importance\n",
        "from sklearn.ensemble import RandomForestClassifier\n",
        "\n",
        "# plot_confusion_matrix(rf, x_train, y_train, values_format='d')\n",
        "\n",
        "# pd.set_option('display.max_rows', 1000)\n",
        "# pd.set_option('display.max_columns', 1000)"
      ],
      "execution_count": 2,
      "outputs": [
        {
          "output_type": "stream",
          "text": [
            "/usr/local/lib/python3.7/dist-packages/statsmodels/tools/_testing.py:19: FutureWarning: pandas.util.testing is deprecated. Use the functions in the public API at pandas.testing instead.\n",
            "  import pandas.util.testing as tm\n",
            "/usr/local/lib/python3.7/dist-packages/sklearn/externals/six.py:31: FutureWarning: The module is deprecated in version 0.21 and will be removed in version 0.23 since we've dropped support for Python 2.7. Please rely on the official version of six (https://pypi.org/project/six/).\n",
            "  \"(https://pypi.org/project/six/).\", FutureWarning)\n",
            "/usr/local/lib/python3.7/dist-packages/sklearn/utils/deprecation.py:144: FutureWarning: The sklearn.neighbors.base module is  deprecated in version 0.22 and will be removed in version 0.24. The corresponding classes / functions should instead be imported from sklearn.neighbors. Anything that cannot be imported from sklearn.neighbors is now part of the private API.\n",
            "  warnings.warn(message, FutureWarning)\n"
          ],
          "name": "stderr"
        }
      ]
    },
    {
      "cell_type": "code",
      "metadata": {
        "id": "adBNs8t-bns1"
      },
      "source": [
        "# set a seed for reproducibility\n",
        "RANDOM_STATE = 99"
      ],
      "execution_count": 3,
      "outputs": []
    },
    {
      "cell_type": "code",
      "metadata": {
        "id": "2mccK51mVw9c"
      },
      "source": [
        "df = pd.read_csv('RFE_Estimate_WGs.csv')\n",
        "\n",
        "#convert RFE_SUBMITE_DATE to datetime variable\n",
        "df['RFE_SUBMIT_DATE'] = pd.to_datetime(df.RFE_SUBMIT_DATE)\n",
        "\n",
        "# convert IDs into a string so they are treated as categorical\n",
        "# also add details to each ID so they are not confused later on\n",
        "df['SUPPLIER_USER_ID'] = df['SUPPLIER_USER_ID'].astype(str) + 'supplier'\n",
        "df['SP_SPEC_TYPE_ID'] = df['SP_SPEC_TYPE_ID'].astype(str) + 'sp_spec'\n",
        "df['PRODUCT_TYPE_ID'] = df['PRODUCT_TYPE_ID'].astype(str) + 'product'\n",
        "\n",
        "# adding new variables for time features\n",
        "df['month'] = [i.month_name() for i in df['RFE_SUBMIT_DATE']]\n",
        "df['dayofweek'] = [i.day_name() for i in df['RFE_SUBMIT_DATE']]\n",
        "df['weekday'] = [0 if i in ['Saturday', 'Sunday'] else 1 for i in df['dayofweek']]"
      ],
      "execution_count": 4,
      "outputs": []
    },
    {
      "cell_type": "markdown",
      "metadata": {
        "id": "AMCThCBPjFC8"
      },
      "source": [
        "As the columns for weekday and dayofweek are really similar, only one should be included in the final model.  We will quickly look at their effects on IS_SUBMIT_ESTIMATE and decide which one to include."
      ]
    },
    {
      "cell_type": "code",
      "metadata": {
        "colab": {
          "base_uri": "https://localhost:8080/",
          "height": 173
        },
        "id": "agbJ5GN0jEeq",
        "outputId": "e68d1495-f628-4fa5-cc85-83c36944db1f"
      },
      "source": [
        "weekday_df = pd.crosstab(df.weekday, df.IS_SUBMIT_ESTIMATE, margins=True)\n",
        "weekday_df['percentages'] = weekday_df[1] / weekday_df['All']\n",
        "weekday_df"
      ],
      "execution_count": 5,
      "outputs": [
        {
          "output_type": "execute_result",
          "data": {
            "text/html": [
              "<div>\n",
              "<style scoped>\n",
              "    .dataframe tbody tr th:only-of-type {\n",
              "        vertical-align: middle;\n",
              "    }\n",
              "\n",
              "    .dataframe tbody tr th {\n",
              "        vertical-align: top;\n",
              "    }\n",
              "\n",
              "    .dataframe thead th {\n",
              "        text-align: right;\n",
              "    }\n",
              "</style>\n",
              "<table border=\"1\" class=\"dataframe\">\n",
              "  <thead>\n",
              "    <tr style=\"text-align: right;\">\n",
              "      <th>IS_SUBMIT_ESTIMATE</th>\n",
              "      <th>0</th>\n",
              "      <th>1</th>\n",
              "      <th>All</th>\n",
              "      <th>percentages</th>\n",
              "    </tr>\n",
              "    <tr>\n",
              "      <th>weekday</th>\n",
              "      <th></th>\n",
              "      <th></th>\n",
              "      <th></th>\n",
              "      <th></th>\n",
              "    </tr>\n",
              "  </thead>\n",
              "  <tbody>\n",
              "    <tr>\n",
              "      <th>0</th>\n",
              "      <td>425</td>\n",
              "      <td>30</td>\n",
              "      <td>455</td>\n",
              "      <td>0.065934</td>\n",
              "    </tr>\n",
              "    <tr>\n",
              "      <th>1</th>\n",
              "      <td>63024</td>\n",
              "      <td>5622</td>\n",
              "      <td>68646</td>\n",
              "      <td>0.081898</td>\n",
              "    </tr>\n",
              "    <tr>\n",
              "      <th>All</th>\n",
              "      <td>63449</td>\n",
              "      <td>5652</td>\n",
              "      <td>69101</td>\n",
              "      <td>0.081793</td>\n",
              "    </tr>\n",
              "  </tbody>\n",
              "</table>\n",
              "</div>"
            ],
            "text/plain": [
              "IS_SUBMIT_ESTIMATE      0     1    All  percentages\n",
              "weekday                                            \n",
              "0                     425    30    455     0.065934\n",
              "1                   63024  5622  68646     0.081898\n",
              "All                 63449  5652  69101     0.081793"
            ]
          },
          "metadata": {
            "tags": []
          },
          "execution_count": 5
        }
      ]
    },
    {
      "cell_type": "code",
      "metadata": {
        "colab": {
          "base_uri": "https://localhost:8080/",
          "height": 328
        },
        "id": "rLvU4S1EjBPw",
        "outputId": "6fae3abe-122c-4f5f-952d-e5f4706001fe"
      },
      "source": [
        "dayofweek_df = pd.crosstab(df.dayofweek, df.IS_SUBMIT_ESTIMATE, margins=True)\n",
        "dayofweek_df['percentages'] = dayofweek_df[1] / dayofweek_df['All']\n",
        "dayofweek_df"
      ],
      "execution_count": 6,
      "outputs": [
        {
          "output_type": "execute_result",
          "data": {
            "text/html": [
              "<div>\n",
              "<style scoped>\n",
              "    .dataframe tbody tr th:only-of-type {\n",
              "        vertical-align: middle;\n",
              "    }\n",
              "\n",
              "    .dataframe tbody tr th {\n",
              "        vertical-align: top;\n",
              "    }\n",
              "\n",
              "    .dataframe thead th {\n",
              "        text-align: right;\n",
              "    }\n",
              "</style>\n",
              "<table border=\"1\" class=\"dataframe\">\n",
              "  <thead>\n",
              "    <tr style=\"text-align: right;\">\n",
              "      <th>IS_SUBMIT_ESTIMATE</th>\n",
              "      <th>0</th>\n",
              "      <th>1</th>\n",
              "      <th>All</th>\n",
              "      <th>percentages</th>\n",
              "    </tr>\n",
              "    <tr>\n",
              "      <th>dayofweek</th>\n",
              "      <th></th>\n",
              "      <th></th>\n",
              "      <th></th>\n",
              "      <th></th>\n",
              "    </tr>\n",
              "  </thead>\n",
              "  <tbody>\n",
              "    <tr>\n",
              "      <th>Friday</th>\n",
              "      <td>13021</td>\n",
              "      <td>1188</td>\n",
              "      <td>14209</td>\n",
              "      <td>0.083609</td>\n",
              "    </tr>\n",
              "    <tr>\n",
              "      <th>Monday</th>\n",
              "      <td>12691</td>\n",
              "      <td>1103</td>\n",
              "      <td>13794</td>\n",
              "      <td>0.079962</td>\n",
              "    </tr>\n",
              "    <tr>\n",
              "      <th>Saturday</th>\n",
              "      <td>304</td>\n",
              "      <td>14</td>\n",
              "      <td>318</td>\n",
              "      <td>0.044025</td>\n",
              "    </tr>\n",
              "    <tr>\n",
              "      <th>Sunday</th>\n",
              "      <td>121</td>\n",
              "      <td>16</td>\n",
              "      <td>137</td>\n",
              "      <td>0.116788</td>\n",
              "    </tr>\n",
              "    <tr>\n",
              "      <th>Thursday</th>\n",
              "      <td>10754</td>\n",
              "      <td>998</td>\n",
              "      <td>11752</td>\n",
              "      <td>0.084922</td>\n",
              "    </tr>\n",
              "    <tr>\n",
              "      <th>Tuesday</th>\n",
              "      <td>13492</td>\n",
              "      <td>1182</td>\n",
              "      <td>14674</td>\n",
              "      <td>0.080551</td>\n",
              "    </tr>\n",
              "    <tr>\n",
              "      <th>Wednesday</th>\n",
              "      <td>12388</td>\n",
              "      <td>1151</td>\n",
              "      <td>13539</td>\n",
              "      <td>0.085014</td>\n",
              "    </tr>\n",
              "    <tr>\n",
              "      <th>All</th>\n",
              "      <td>62771</td>\n",
              "      <td>5652</td>\n",
              "      <td>68423</td>\n",
              "      <td>0.082604</td>\n",
              "    </tr>\n",
              "  </tbody>\n",
              "</table>\n",
              "</div>"
            ],
            "text/plain": [
              "IS_SUBMIT_ESTIMATE      0     1    All  percentages\n",
              "dayofweek                                          \n",
              "Friday              13021  1188  14209     0.083609\n",
              "Monday              12691  1103  13794     0.079962\n",
              "Saturday              304    14    318     0.044025\n",
              "Sunday                121    16    137     0.116788\n",
              "Thursday            10754   998  11752     0.084922\n",
              "Tuesday             13492  1182  14674     0.080551\n",
              "Wednesday           12388  1151  13539     0.085014\n",
              "All                 62771  5652  68423     0.082604"
            ]
          },
          "metadata": {
            "tags": []
          },
          "execution_count": 6
        }
      ]
    },
    {
      "cell_type": "markdown",
      "metadata": {
        "id": "YCJxx3BkjdP9"
      },
      "source": [
        "We see that all 5 weekdays are relatively similar (around 8%) while Saturday and Sunday are both drastically different.  Saturday is much lower than the weekdays and Sundays are much higher than the weekdays.  Even with the caveat that both happen much less often than weekdays, this is still a significant difference.\n",
        "\n",
        "It would have been most explainable for Saturday and Sunday to both have lower percentages of IS_SUBMIT_ESTIMATE since it could have meant that suppliers have lower response rates during the weekend but, strangely, this is not the case.  There are probably other factors at play for Sunday to have such a high rate of percentage of IS_SUBMIT_ESTIMATE, but they are not reflected in this dataset.\n",
        "\n",
        "For modeling, we will use the day of week variable since that would not group Saturday and Sunday together."
      ]
    },
    {
      "cell_type": "code",
      "metadata": {
        "id": "cmFStwt6ujYO"
      },
      "source": [
        "# removing the RFE_ID and RFE_OWNER_WORKGROUP_ID and RFE_SUBMIT_DATE\n",
        "df = df[['SUPPLIER_USER_ID', 'PROPOSED_COMPLETION_HOURS', 'ESTIMATE_DUE_HOURS',\n",
        "         'RFE_ITEM_CONUT', 'PRODUCT_TYPE_ID', 'SP_SPEC_TYPE_ID',\n",
        "         'RFE_QUANTITY_1', 'RFE_QUANTITY_2', 'RFE_QUANTITY_3', 'RFE_QUANTITY_4',\n",
        "         'RFE_QUANTITY_5', 'IS_SUBMIT_ESTIMATE', 'month', 'dayofweek']]\n"
      ],
      "execution_count": 7,
      "outputs": []
    },
    {
      "cell_type": "code",
      "metadata": {
        "colab": {
          "base_uri": "https://localhost:8080/",
          "height": 224
        },
        "id": "-M6w0p-aV27w",
        "outputId": "e77d0368-98b3-461e-d9b2-89c48f7ca25e"
      },
      "source": [
        "df.head()"
      ],
      "execution_count": 8,
      "outputs": [
        {
          "output_type": "execute_result",
          "data": {
            "text/html": [
              "<div>\n",
              "<style scoped>\n",
              "    .dataframe tbody tr th:only-of-type {\n",
              "        vertical-align: middle;\n",
              "    }\n",
              "\n",
              "    .dataframe tbody tr th {\n",
              "        vertical-align: top;\n",
              "    }\n",
              "\n",
              "    .dataframe thead th {\n",
              "        text-align: right;\n",
              "    }\n",
              "</style>\n",
              "<table border=\"1\" class=\"dataframe\">\n",
              "  <thead>\n",
              "    <tr style=\"text-align: right;\">\n",
              "      <th></th>\n",
              "      <th>SUPPLIER_USER_ID</th>\n",
              "      <th>PROPOSED_COMPLETION_HOURS</th>\n",
              "      <th>ESTIMATE_DUE_HOURS</th>\n",
              "      <th>RFE_ITEM_CONUT</th>\n",
              "      <th>PRODUCT_TYPE_ID</th>\n",
              "      <th>SP_SPEC_TYPE_ID</th>\n",
              "      <th>RFE_QUANTITY_1</th>\n",
              "      <th>RFE_QUANTITY_2</th>\n",
              "      <th>RFE_QUANTITY_3</th>\n",
              "      <th>RFE_QUANTITY_4</th>\n",
              "      <th>RFE_QUANTITY_5</th>\n",
              "      <th>IS_SUBMIT_ESTIMATE</th>\n",
              "      <th>month</th>\n",
              "      <th>dayofweek</th>\n",
              "    </tr>\n",
              "  </thead>\n",
              "  <tbody>\n",
              "    <tr>\n",
              "      <th>0</th>\n",
              "      <td>5454075supplier</td>\n",
              "      <td>364.0</td>\n",
              "      <td>100.0</td>\n",
              "      <td>1</td>\n",
              "      <td>4000500product</td>\n",
              "      <td>5002011sp_spec</td>\n",
              "      <td>500</td>\n",
              "      <td>NaN</td>\n",
              "      <td>NaN</td>\n",
              "      <td>NaN</td>\n",
              "      <td>NaN</td>\n",
              "      <td>0</td>\n",
              "      <td>March</td>\n",
              "      <td>Thursday</td>\n",
              "    </tr>\n",
              "    <tr>\n",
              "      <th>1</th>\n",
              "      <td>5425218supplier</td>\n",
              "      <td>364.0</td>\n",
              "      <td>100.0</td>\n",
              "      <td>1</td>\n",
              "      <td>4000500product</td>\n",
              "      <td>5002011sp_spec</td>\n",
              "      <td>500</td>\n",
              "      <td>NaN</td>\n",
              "      <td>NaN</td>\n",
              "      <td>NaN</td>\n",
              "      <td>NaN</td>\n",
              "      <td>0</td>\n",
              "      <td>March</td>\n",
              "      <td>Thursday</td>\n",
              "    </tr>\n",
              "    <tr>\n",
              "      <th>2</th>\n",
              "      <td>5425565supplier</td>\n",
              "      <td>364.0</td>\n",
              "      <td>100.0</td>\n",
              "      <td>1</td>\n",
              "      <td>4000500product</td>\n",
              "      <td>5002011sp_spec</td>\n",
              "      <td>500</td>\n",
              "      <td>NaN</td>\n",
              "      <td>NaN</td>\n",
              "      <td>NaN</td>\n",
              "      <td>NaN</td>\n",
              "      <td>0</td>\n",
              "      <td>March</td>\n",
              "      <td>Thursday</td>\n",
              "    </tr>\n",
              "    <tr>\n",
              "      <th>3</th>\n",
              "      <td>5430764supplier</td>\n",
              "      <td>364.0</td>\n",
              "      <td>100.0</td>\n",
              "      <td>1</td>\n",
              "      <td>4000500product</td>\n",
              "      <td>5002011sp_spec</td>\n",
              "      <td>500</td>\n",
              "      <td>NaN</td>\n",
              "      <td>NaN</td>\n",
              "      <td>NaN</td>\n",
              "      <td>NaN</td>\n",
              "      <td>0</td>\n",
              "      <td>March</td>\n",
              "      <td>Thursday</td>\n",
              "    </tr>\n",
              "    <tr>\n",
              "      <th>4</th>\n",
              "      <td>5432936supplier</td>\n",
              "      <td>364.0</td>\n",
              "      <td>100.0</td>\n",
              "      <td>1</td>\n",
              "      <td>4000500product</td>\n",
              "      <td>5002011sp_spec</td>\n",
              "      <td>500</td>\n",
              "      <td>NaN</td>\n",
              "      <td>NaN</td>\n",
              "      <td>NaN</td>\n",
              "      <td>NaN</td>\n",
              "      <td>1</td>\n",
              "      <td>March</td>\n",
              "      <td>Thursday</td>\n",
              "    </tr>\n",
              "  </tbody>\n",
              "</table>\n",
              "</div>"
            ],
            "text/plain": [
              "  SUPPLIER_USER_ID  PROPOSED_COMPLETION_HOURS  ...  month  dayofweek\n",
              "0  5454075supplier                      364.0  ...  March   Thursday\n",
              "1  5425218supplier                      364.0  ...  March   Thursday\n",
              "2  5425565supplier                      364.0  ...  March   Thursday\n",
              "3  5430764supplier                      364.0  ...  March   Thursday\n",
              "4  5432936supplier                      364.0  ...  March   Thursday\n",
              "\n",
              "[5 rows x 14 columns]"
            ]
          },
          "metadata": {
            "tags": []
          },
          "execution_count": 8
        }
      ]
    },
    {
      "cell_type": "code",
      "metadata": {
        "colab": {
          "base_uri": "https://localhost:8080/",
          "height": 410
        },
        "id": "pJfgwguXV25K",
        "outputId": "617b7ba0-bfaa-4cac-c850-b447a0093a7c"
      },
      "source": [
        "df.describe(include='all')"
      ],
      "execution_count": 9,
      "outputs": [
        {
          "output_type": "execute_result",
          "data": {
            "text/html": [
              "<div>\n",
              "<style scoped>\n",
              "    .dataframe tbody tr th:only-of-type {\n",
              "        vertical-align: middle;\n",
              "    }\n",
              "\n",
              "    .dataframe tbody tr th {\n",
              "        vertical-align: top;\n",
              "    }\n",
              "\n",
              "    .dataframe thead th {\n",
              "        text-align: right;\n",
              "    }\n",
              "</style>\n",
              "<table border=\"1\" class=\"dataframe\">\n",
              "  <thead>\n",
              "    <tr style=\"text-align: right;\">\n",
              "      <th></th>\n",
              "      <th>SUPPLIER_USER_ID</th>\n",
              "      <th>PROPOSED_COMPLETION_HOURS</th>\n",
              "      <th>ESTIMATE_DUE_HOURS</th>\n",
              "      <th>RFE_ITEM_CONUT</th>\n",
              "      <th>PRODUCT_TYPE_ID</th>\n",
              "      <th>SP_SPEC_TYPE_ID</th>\n",
              "      <th>RFE_QUANTITY_1</th>\n",
              "      <th>RFE_QUANTITY_2</th>\n",
              "      <th>RFE_QUANTITY_3</th>\n",
              "      <th>RFE_QUANTITY_4</th>\n",
              "      <th>RFE_QUANTITY_5</th>\n",
              "      <th>IS_SUBMIT_ESTIMATE</th>\n",
              "      <th>month</th>\n",
              "      <th>dayofweek</th>\n",
              "    </tr>\n",
              "  </thead>\n",
              "  <tbody>\n",
              "    <tr>\n",
              "      <th>count</th>\n",
              "      <td>69101</td>\n",
              "      <td>68423.000000</td>\n",
              "      <td>68423.000000</td>\n",
              "      <td>69101.000000</td>\n",
              "      <td>69101</td>\n",
              "      <td>69101</td>\n",
              "      <td>69101.000000</td>\n",
              "      <td>1.949000e+04</td>\n",
              "      <td>9580.000000</td>\n",
              "      <td>3156.000000</td>\n",
              "      <td>360.000000</td>\n",
              "      <td>69101.000000</td>\n",
              "      <td>68423</td>\n",
              "      <td>68423</td>\n",
              "    </tr>\n",
              "    <tr>\n",
              "      <th>unique</th>\n",
              "      <td>358</td>\n",
              "      <td>NaN</td>\n",
              "      <td>NaN</td>\n",
              "      <td>NaN</td>\n",
              "      <td>47</td>\n",
              "      <td>7</td>\n",
              "      <td>NaN</td>\n",
              "      <td>NaN</td>\n",
              "      <td>NaN</td>\n",
              "      <td>NaN</td>\n",
              "      <td>NaN</td>\n",
              "      <td>NaN</td>\n",
              "      <td>12</td>\n",
              "      <td>7</td>\n",
              "    </tr>\n",
              "    <tr>\n",
              "      <th>top</th>\n",
              "      <td>5451014supplier</td>\n",
              "      <td>NaN</td>\n",
              "      <td>NaN</td>\n",
              "      <td>NaN</td>\n",
              "      <td>4000057product</td>\n",
              "      <td>5001052sp_spec</td>\n",
              "      <td>NaN</td>\n",
              "      <td>NaN</td>\n",
              "      <td>NaN</td>\n",
              "      <td>NaN</td>\n",
              "      <td>NaN</td>\n",
              "      <td>NaN</td>\n",
              "      <td>December</td>\n",
              "      <td>Tuesday</td>\n",
              "    </tr>\n",
              "    <tr>\n",
              "      <th>freq</th>\n",
              "      <td>657</td>\n",
              "      <td>NaN</td>\n",
              "      <td>NaN</td>\n",
              "      <td>NaN</td>\n",
              "      <td>14569</td>\n",
              "      <td>61910</td>\n",
              "      <td>NaN</td>\n",
              "      <td>NaN</td>\n",
              "      <td>NaN</td>\n",
              "      <td>NaN</td>\n",
              "      <td>NaN</td>\n",
              "      <td>NaN</td>\n",
              "      <td>9763</td>\n",
              "      <td>14674</td>\n",
              "    </tr>\n",
              "    <tr>\n",
              "      <th>mean</th>\n",
              "      <td>NaN</td>\n",
              "      <td>1386.057758</td>\n",
              "      <td>85.748067</td>\n",
              "      <td>1.023097</td>\n",
              "      <td>NaN</td>\n",
              "      <td>NaN</td>\n",
              "      <td>34818.207247</td>\n",
              "      <td>3.677723e+04</td>\n",
              "      <td>34453.563987</td>\n",
              "      <td>36070.888466</td>\n",
              "      <td>11681.472222</td>\n",
              "      <td>0.081793</td>\n",
              "      <td>NaN</td>\n",
              "      <td>NaN</td>\n",
              "    </tr>\n",
              "    <tr>\n",
              "      <th>std</th>\n",
              "      <td>NaN</td>\n",
              "      <td>844.253928</td>\n",
              "      <td>54.569768</td>\n",
              "      <td>0.150212</td>\n",
              "      <td>NaN</td>\n",
              "      <td>NaN</td>\n",
              "      <td>92428.755904</td>\n",
              "      <td>1.249910e+05</td>\n",
              "      <td>68529.517224</td>\n",
              "      <td>71840.947926</td>\n",
              "      <td>13051.385968</td>\n",
              "      <td>0.274052</td>\n",
              "      <td>NaN</td>\n",
              "      <td>NaN</td>\n",
              "    </tr>\n",
              "    <tr>\n",
              "      <th>min</th>\n",
              "      <td>NaN</td>\n",
              "      <td>22.000000</td>\n",
              "      <td>0.000000</td>\n",
              "      <td>1.000000</td>\n",
              "      <td>NaN</td>\n",
              "      <td>NaN</td>\n",
              "      <td>1.000000</td>\n",
              "      <td>2.000000e+00</td>\n",
              "      <td>3.000000</td>\n",
              "      <td>4.000000</td>\n",
              "      <td>5.000000</td>\n",
              "      <td>0.000000</td>\n",
              "      <td>NaN</td>\n",
              "      <td>NaN</td>\n",
              "    </tr>\n",
              "    <tr>\n",
              "      <th>25%</th>\n",
              "      <td>NaN</td>\n",
              "      <td>798.000000</td>\n",
              "      <td>48.000000</td>\n",
              "      <td>1.000000</td>\n",
              "      <td>NaN</td>\n",
              "      <td>NaN</td>\n",
              "      <td>1691.000000</td>\n",
              "      <td>1.500000e+03</td>\n",
              "      <td>1000.000000</td>\n",
              "      <td>1000.000000</td>\n",
              "      <td>100.000000</td>\n",
              "      <td>0.000000</td>\n",
              "      <td>NaN</td>\n",
              "      <td>NaN</td>\n",
              "    </tr>\n",
              "    <tr>\n",
              "      <th>50%</th>\n",
              "      <td>NaN</td>\n",
              "      <td>1226.000000</td>\n",
              "      <td>73.000000</td>\n",
              "      <td>1.000000</td>\n",
              "      <td>NaN</td>\n",
              "      <td>NaN</td>\n",
              "      <td>6000.000000</td>\n",
              "      <td>6.300000e+03</td>\n",
              "      <td>5000.000000</td>\n",
              "      <td>6000.000000</td>\n",
              "      <td>7000.000000</td>\n",
              "      <td>0.000000</td>\n",
              "      <td>NaN</td>\n",
              "      <td>NaN</td>\n",
              "    </tr>\n",
              "    <tr>\n",
              "      <th>75%</th>\n",
              "      <td>NaN</td>\n",
              "      <td>1781.000000</td>\n",
              "      <td>116.000000</td>\n",
              "      <td>1.000000</td>\n",
              "      <td>NaN</td>\n",
              "      <td>NaN</td>\n",
              "      <td>20000.000000</td>\n",
              "      <td>2.000000e+04</td>\n",
              "      <td>30000.000000</td>\n",
              "      <td>30000.000000</td>\n",
              "      <td>9000.000000</td>\n",
              "      <td>0.000000</td>\n",
              "      <td>NaN</td>\n",
              "      <td>NaN</td>\n",
              "    </tr>\n",
              "    <tr>\n",
              "      <th>max</th>\n",
              "      <td>NaN</td>\n",
              "      <td>9791.000000</td>\n",
              "      <td>504.000000</td>\n",
              "      <td>2.000000</td>\n",
              "      <td>NaN</td>\n",
              "      <td>NaN</td>\n",
              "      <td>800000.000000</td>\n",
              "      <td>1.244000e+06</td>\n",
              "      <td>500000.000000</td>\n",
              "      <td>380000.000000</td>\n",
              "      <td>35000.000000</td>\n",
              "      <td>1.000000</td>\n",
              "      <td>NaN</td>\n",
              "      <td>NaN</td>\n",
              "    </tr>\n",
              "  </tbody>\n",
              "</table>\n",
              "</div>"
            ],
            "text/plain": [
              "       SUPPLIER_USER_ID  PROPOSED_COMPLETION_HOURS  ...     month  dayofweek\n",
              "count             69101               68423.000000  ...     68423      68423\n",
              "unique              358                        NaN  ...        12          7\n",
              "top     5451014supplier                        NaN  ...  December    Tuesday\n",
              "freq                657                        NaN  ...      9763      14674\n",
              "mean                NaN                1386.057758  ...       NaN        NaN\n",
              "std                 NaN                 844.253928  ...       NaN        NaN\n",
              "min                 NaN                  22.000000  ...       NaN        NaN\n",
              "25%                 NaN                 798.000000  ...       NaN        NaN\n",
              "50%                 NaN                1226.000000  ...       NaN        NaN\n",
              "75%                 NaN                1781.000000  ...       NaN        NaN\n",
              "max                 NaN                9791.000000  ...       NaN        NaN\n",
              "\n",
              "[11 rows x 14 columns]"
            ]
          },
          "metadata": {
            "tags": []
          },
          "execution_count": 9
        }
      ]
    },
    {
      "cell_type": "code",
      "metadata": {
        "colab": {
          "base_uri": "https://localhost:8080/"
        },
        "id": "axyIhrJG9A3O",
        "outputId": "13b7dd3d-55a3-414b-84e9-f17b6b342e31"
      },
      "source": [
        "print('Total observations where IS_SUBMIT_ESTIMATE is 1 is ',\n",
        "      sum(df.IS_SUBMIT_ESTIMATE))\n",
        "\n",
        "print('Percentage of these observations of the whole dataset is',\n",
        "      sum(df.IS_SUBMIT_ESTIMATE) / len(df))"
      ],
      "execution_count": 10,
      "outputs": [
        {
          "output_type": "stream",
          "text": [
            "Total observations where IS_SUBMIT_ESTIMATE is 1 is  5652\n",
            "Percentage of these observations of the whole dataset is 0.08179331702869712\n"
          ],
          "name": "stdout"
        }
      ]
    },
    {
      "cell_type": "markdown",
      "metadata": {
        "id": "uQOdN2f4X1Y_"
      },
      "source": [
        "# Initial/Benchmark Models"
      ]
    },
    {
      "cell_type": "markdown",
      "metadata": {
        "id": "MGlnE3XqX49L"
      },
      "source": [
        "We will begin with initial models fitting all variables on the predictor to provide a benchmark model.  We will look at logistic regression, naive bayes, random forest, and XGBoost.  XGBoost is the only algorithm out of the above that can handle missing values, so all other algorithms will use data where the missing quantity observations are filled with a 0.\n",
        "\n",
        "Due to the imbalance in the dataset for the \"IS_SUBMIT_ESTIMATE\" variable, we will use not only accuracy, but also the following metrics to evaluate the models.\n",
        "\n",
        "*  Precision - the number of items correctly identified as positive (or 1 for IS_SUBMIT_ESTIMATE) out of all items predicted as positive.\n",
        "*  Recall - number of items correctly identified as positive out of all true positives\n",
        "* F1 Score- harmonic mean of precision and recall (2 * precision * Recall) / (Precision + Recall)\n",
        "\n",
        "We start by first encoding all of the categorical variables with one-hot encoding.\n",
        "\n",
        "PRODUCT_TYPE_ID, SP_SPEC_TYPE_ID, and SUPPLIER_USER_ID have no missing values, so one category will be dropped as the one-hot coding for them will provide the same information if one category is not dropped compared to if it dropped.\n",
        "Month and dayofweek, however, have missing variables, so all categories must be present.\n",
        "\n",
        "Due to the fact that SUPPLIER_USER_ID contains 358 different categories, using one-hot encoding will result in a very sparse matrix, increasing training time.  Target encoding was used at first (not shown in this notebook), but resulted in too much overfitting.  The models put practically all the weight on that variable and the testing f_scores were lower, so one-hot encoding will still be used."
      ]
    },
    {
      "cell_type": "code",
      "metadata": {
        "id": "YaggybCMcKaw"
      },
      "source": [
        "# getting df with proper encodings\n",
        "\n",
        "# first get list of categorical variables to be one hot encoded\n",
        "# categorical variables with no missing variables\n",
        "dummy_cat = ['PRODUCT_TYPE_ID', 'SP_SPEC_TYPE_ID', 'SUPPLIER_USER_ID']\n",
        "# categorical variables with missing variables\n",
        "dummy_cat_miss = ['month', 'dayofweek']\n",
        "\n",
        "# get list for num variables\n",
        "# adding 'SUPPLIER_USER_ID' to encode later\n",
        "num_vars = ['PROPOSED_COMPLETION_HOURS', 'ESTIMATE_DUE_HOURS', 'RFE_ITEM_CONUT',\n",
        "            'RFE_QUANTITY_1', 'RFE_QUANTITY_2', 'RFE_QUANTITY_3',\n",
        "            'RFE_QUANTITY_4', 'RFE_QUANTITY_5']\n",
        "\n",
        "# get the predicted variable\n",
        "y = df.IS_SUBMIT_ESTIMATE\n",
        "\n",
        "# initialize df of numerical data\n",
        "X = df[num_vars]\n",
        "\n",
        "# dummify categorical variables\n",
        "# also dropping the first column since the information does not change if\n",
        "# all the other columns are kept\n",
        "for i in dummy_cat:\n",
        "  X = X.join(pd.get_dummies(df[i]).iloc[:, 1:], rsuffix=i)\n",
        "\n",
        "# dummify categorical variables with missing variables and keeping all columns\n",
        "for i in dummy_cat_miss:\n",
        "  X = X.join(pd.get_dummies(df[i]).iloc[:, :], rsuffix=i)"
      ],
      "execution_count": 11,
      "outputs": []
    },
    {
      "cell_type": "code",
      "metadata": {
        "colab": {
          "base_uri": "https://localhost:8080/",
          "height": 253
        },
        "id": "i4359lci5xDc",
        "outputId": "7c805ae0-0d8f-4023-8a22-aea07cda16c6"
      },
      "source": [
        "X.head()"
      ],
      "execution_count": 12,
      "outputs": [
        {
          "output_type": "execute_result",
          "data": {
            "text/html": [
              "<div>\n",
              "<style scoped>\n",
              "    .dataframe tbody tr th:only-of-type {\n",
              "        vertical-align: middle;\n",
              "    }\n",
              "\n",
              "    .dataframe tbody tr th {\n",
              "        vertical-align: top;\n",
              "    }\n",
              "\n",
              "    .dataframe thead th {\n",
              "        text-align: right;\n",
              "    }\n",
              "</style>\n",
              "<table border=\"1\" class=\"dataframe\">\n",
              "  <thead>\n",
              "    <tr style=\"text-align: right;\">\n",
              "      <th></th>\n",
              "      <th>PROPOSED_COMPLETION_HOURS</th>\n",
              "      <th>ESTIMATE_DUE_HOURS</th>\n",
              "      <th>RFE_ITEM_CONUT</th>\n",
              "      <th>RFE_QUANTITY_1</th>\n",
              "      <th>RFE_QUANTITY_2</th>\n",
              "      <th>RFE_QUANTITY_3</th>\n",
              "      <th>RFE_QUANTITY_4</th>\n",
              "      <th>RFE_QUANTITY_5</th>\n",
              "      <th>4000055product</th>\n",
              "      <th>4000056product</th>\n",
              "      <th>4000057product</th>\n",
              "      <th>4000064product</th>\n",
              "      <th>4000065product</th>\n",
              "      <th>4000070product</th>\n",
              "      <th>4000077product</th>\n",
              "      <th>4000079product</th>\n",
              "      <th>4000081product</th>\n",
              "      <th>4000084product</th>\n",
              "      <th>4000085product</th>\n",
              "      <th>4000092product</th>\n",
              "      <th>4000093product</th>\n",
              "      <th>4000094product</th>\n",
              "      <th>4000095product</th>\n",
              "      <th>4000101product</th>\n",
              "      <th>4000113product</th>\n",
              "      <th>4000114product</th>\n",
              "      <th>4000120product</th>\n",
              "      <th>4000141product</th>\n",
              "      <th>4000164product</th>\n",
              "      <th>4000228product</th>\n",
              "      <th>4000253product</th>\n",
              "      <th>4000263product</th>\n",
              "      <th>4000264product</th>\n",
              "      <th>4000269product</th>\n",
              "      <th>4000290product</th>\n",
              "      <th>4000292product</th>\n",
              "      <th>4000500product</th>\n",
              "      <th>5021345product</th>\n",
              "      <th>5021351product</th>\n",
              "      <th>5021357product</th>\n",
              "      <th>...</th>\n",
              "      <th>5612275supplier</th>\n",
              "      <th>5612294supplier</th>\n",
              "      <th>5612435supplier</th>\n",
              "      <th>5612457supplier</th>\n",
              "      <th>5612617supplier</th>\n",
              "      <th>5612895supplier</th>\n",
              "      <th>5613435supplier</th>\n",
              "      <th>5615694supplier</th>\n",
              "      <th>5615794supplier</th>\n",
              "      <th>5616202supplier</th>\n",
              "      <th>5616494supplier</th>\n",
              "      <th>5616874supplier</th>\n",
              "      <th>5617755supplier</th>\n",
              "      <th>5618015supplier</th>\n",
              "      <th>5618376supplier</th>\n",
              "      <th>5618755supplier</th>\n",
              "      <th>5618756supplier</th>\n",
              "      <th>5618757supplier</th>\n",
              "      <th>5618954supplier</th>\n",
              "      <th>5619175supplier</th>\n",
              "      <th>5620974supplier</th>\n",
              "      <th>April</th>\n",
              "      <th>August</th>\n",
              "      <th>December</th>\n",
              "      <th>February</th>\n",
              "      <th>January</th>\n",
              "      <th>July</th>\n",
              "      <th>June</th>\n",
              "      <th>March</th>\n",
              "      <th>May</th>\n",
              "      <th>November</th>\n",
              "      <th>October</th>\n",
              "      <th>September</th>\n",
              "      <th>Friday</th>\n",
              "      <th>Monday</th>\n",
              "      <th>Saturday</th>\n",
              "      <th>Sunday</th>\n",
              "      <th>Thursday</th>\n",
              "      <th>Tuesday</th>\n",
              "      <th>Wednesday</th>\n",
              "    </tr>\n",
              "  </thead>\n",
              "  <tbody>\n",
              "    <tr>\n",
              "      <th>0</th>\n",
              "      <td>364.0</td>\n",
              "      <td>100.0</td>\n",
              "      <td>1</td>\n",
              "      <td>500</td>\n",
              "      <td>NaN</td>\n",
              "      <td>NaN</td>\n",
              "      <td>NaN</td>\n",
              "      <td>NaN</td>\n",
              "      <td>0</td>\n",
              "      <td>0</td>\n",
              "      <td>0</td>\n",
              "      <td>0</td>\n",
              "      <td>0</td>\n",
              "      <td>0</td>\n",
              "      <td>0</td>\n",
              "      <td>0</td>\n",
              "      <td>0</td>\n",
              "      <td>0</td>\n",
              "      <td>0</td>\n",
              "      <td>0</td>\n",
              "      <td>0</td>\n",
              "      <td>0</td>\n",
              "      <td>0</td>\n",
              "      <td>0</td>\n",
              "      <td>0</td>\n",
              "      <td>0</td>\n",
              "      <td>0</td>\n",
              "      <td>0</td>\n",
              "      <td>0</td>\n",
              "      <td>0</td>\n",
              "      <td>0</td>\n",
              "      <td>0</td>\n",
              "      <td>0</td>\n",
              "      <td>0</td>\n",
              "      <td>0</td>\n",
              "      <td>0</td>\n",
              "      <td>1</td>\n",
              "      <td>0</td>\n",
              "      <td>0</td>\n",
              "      <td>0</td>\n",
              "      <td>...</td>\n",
              "      <td>0</td>\n",
              "      <td>0</td>\n",
              "      <td>0</td>\n",
              "      <td>0</td>\n",
              "      <td>0</td>\n",
              "      <td>0</td>\n",
              "      <td>0</td>\n",
              "      <td>0</td>\n",
              "      <td>0</td>\n",
              "      <td>0</td>\n",
              "      <td>0</td>\n",
              "      <td>0</td>\n",
              "      <td>0</td>\n",
              "      <td>0</td>\n",
              "      <td>0</td>\n",
              "      <td>0</td>\n",
              "      <td>0</td>\n",
              "      <td>0</td>\n",
              "      <td>0</td>\n",
              "      <td>0</td>\n",
              "      <td>0</td>\n",
              "      <td>0</td>\n",
              "      <td>0</td>\n",
              "      <td>0</td>\n",
              "      <td>0</td>\n",
              "      <td>0</td>\n",
              "      <td>0</td>\n",
              "      <td>0</td>\n",
              "      <td>1</td>\n",
              "      <td>0</td>\n",
              "      <td>0</td>\n",
              "      <td>0</td>\n",
              "      <td>0</td>\n",
              "      <td>0</td>\n",
              "      <td>0</td>\n",
              "      <td>0</td>\n",
              "      <td>0</td>\n",
              "      <td>1</td>\n",
              "      <td>0</td>\n",
              "      <td>0</td>\n",
              "    </tr>\n",
              "    <tr>\n",
              "      <th>1</th>\n",
              "      <td>364.0</td>\n",
              "      <td>100.0</td>\n",
              "      <td>1</td>\n",
              "      <td>500</td>\n",
              "      <td>NaN</td>\n",
              "      <td>NaN</td>\n",
              "      <td>NaN</td>\n",
              "      <td>NaN</td>\n",
              "      <td>0</td>\n",
              "      <td>0</td>\n",
              "      <td>0</td>\n",
              "      <td>0</td>\n",
              "      <td>0</td>\n",
              "      <td>0</td>\n",
              "      <td>0</td>\n",
              "      <td>0</td>\n",
              "      <td>0</td>\n",
              "      <td>0</td>\n",
              "      <td>0</td>\n",
              "      <td>0</td>\n",
              "      <td>0</td>\n",
              "      <td>0</td>\n",
              "      <td>0</td>\n",
              "      <td>0</td>\n",
              "      <td>0</td>\n",
              "      <td>0</td>\n",
              "      <td>0</td>\n",
              "      <td>0</td>\n",
              "      <td>0</td>\n",
              "      <td>0</td>\n",
              "      <td>0</td>\n",
              "      <td>0</td>\n",
              "      <td>0</td>\n",
              "      <td>0</td>\n",
              "      <td>0</td>\n",
              "      <td>0</td>\n",
              "      <td>1</td>\n",
              "      <td>0</td>\n",
              "      <td>0</td>\n",
              "      <td>0</td>\n",
              "      <td>...</td>\n",
              "      <td>0</td>\n",
              "      <td>0</td>\n",
              "      <td>0</td>\n",
              "      <td>0</td>\n",
              "      <td>0</td>\n",
              "      <td>0</td>\n",
              "      <td>0</td>\n",
              "      <td>0</td>\n",
              "      <td>0</td>\n",
              "      <td>0</td>\n",
              "      <td>0</td>\n",
              "      <td>0</td>\n",
              "      <td>0</td>\n",
              "      <td>0</td>\n",
              "      <td>0</td>\n",
              "      <td>0</td>\n",
              "      <td>0</td>\n",
              "      <td>0</td>\n",
              "      <td>0</td>\n",
              "      <td>0</td>\n",
              "      <td>0</td>\n",
              "      <td>0</td>\n",
              "      <td>0</td>\n",
              "      <td>0</td>\n",
              "      <td>0</td>\n",
              "      <td>0</td>\n",
              "      <td>0</td>\n",
              "      <td>0</td>\n",
              "      <td>1</td>\n",
              "      <td>0</td>\n",
              "      <td>0</td>\n",
              "      <td>0</td>\n",
              "      <td>0</td>\n",
              "      <td>0</td>\n",
              "      <td>0</td>\n",
              "      <td>0</td>\n",
              "      <td>0</td>\n",
              "      <td>1</td>\n",
              "      <td>0</td>\n",
              "      <td>0</td>\n",
              "    </tr>\n",
              "    <tr>\n",
              "      <th>2</th>\n",
              "      <td>364.0</td>\n",
              "      <td>100.0</td>\n",
              "      <td>1</td>\n",
              "      <td>500</td>\n",
              "      <td>NaN</td>\n",
              "      <td>NaN</td>\n",
              "      <td>NaN</td>\n",
              "      <td>NaN</td>\n",
              "      <td>0</td>\n",
              "      <td>0</td>\n",
              "      <td>0</td>\n",
              "      <td>0</td>\n",
              "      <td>0</td>\n",
              "      <td>0</td>\n",
              "      <td>0</td>\n",
              "      <td>0</td>\n",
              "      <td>0</td>\n",
              "      <td>0</td>\n",
              "      <td>0</td>\n",
              "      <td>0</td>\n",
              "      <td>0</td>\n",
              "      <td>0</td>\n",
              "      <td>0</td>\n",
              "      <td>0</td>\n",
              "      <td>0</td>\n",
              "      <td>0</td>\n",
              "      <td>0</td>\n",
              "      <td>0</td>\n",
              "      <td>0</td>\n",
              "      <td>0</td>\n",
              "      <td>0</td>\n",
              "      <td>0</td>\n",
              "      <td>0</td>\n",
              "      <td>0</td>\n",
              "      <td>0</td>\n",
              "      <td>0</td>\n",
              "      <td>1</td>\n",
              "      <td>0</td>\n",
              "      <td>0</td>\n",
              "      <td>0</td>\n",
              "      <td>...</td>\n",
              "      <td>0</td>\n",
              "      <td>0</td>\n",
              "      <td>0</td>\n",
              "      <td>0</td>\n",
              "      <td>0</td>\n",
              "      <td>0</td>\n",
              "      <td>0</td>\n",
              "      <td>0</td>\n",
              "      <td>0</td>\n",
              "      <td>0</td>\n",
              "      <td>0</td>\n",
              "      <td>0</td>\n",
              "      <td>0</td>\n",
              "      <td>0</td>\n",
              "      <td>0</td>\n",
              "      <td>0</td>\n",
              "      <td>0</td>\n",
              "      <td>0</td>\n",
              "      <td>0</td>\n",
              "      <td>0</td>\n",
              "      <td>0</td>\n",
              "      <td>0</td>\n",
              "      <td>0</td>\n",
              "      <td>0</td>\n",
              "      <td>0</td>\n",
              "      <td>0</td>\n",
              "      <td>0</td>\n",
              "      <td>0</td>\n",
              "      <td>1</td>\n",
              "      <td>0</td>\n",
              "      <td>0</td>\n",
              "      <td>0</td>\n",
              "      <td>0</td>\n",
              "      <td>0</td>\n",
              "      <td>0</td>\n",
              "      <td>0</td>\n",
              "      <td>0</td>\n",
              "      <td>1</td>\n",
              "      <td>0</td>\n",
              "      <td>0</td>\n",
              "    </tr>\n",
              "    <tr>\n",
              "      <th>3</th>\n",
              "      <td>364.0</td>\n",
              "      <td>100.0</td>\n",
              "      <td>1</td>\n",
              "      <td>500</td>\n",
              "      <td>NaN</td>\n",
              "      <td>NaN</td>\n",
              "      <td>NaN</td>\n",
              "      <td>NaN</td>\n",
              "      <td>0</td>\n",
              "      <td>0</td>\n",
              "      <td>0</td>\n",
              "      <td>0</td>\n",
              "      <td>0</td>\n",
              "      <td>0</td>\n",
              "      <td>0</td>\n",
              "      <td>0</td>\n",
              "      <td>0</td>\n",
              "      <td>0</td>\n",
              "      <td>0</td>\n",
              "      <td>0</td>\n",
              "      <td>0</td>\n",
              "      <td>0</td>\n",
              "      <td>0</td>\n",
              "      <td>0</td>\n",
              "      <td>0</td>\n",
              "      <td>0</td>\n",
              "      <td>0</td>\n",
              "      <td>0</td>\n",
              "      <td>0</td>\n",
              "      <td>0</td>\n",
              "      <td>0</td>\n",
              "      <td>0</td>\n",
              "      <td>0</td>\n",
              "      <td>0</td>\n",
              "      <td>0</td>\n",
              "      <td>0</td>\n",
              "      <td>1</td>\n",
              "      <td>0</td>\n",
              "      <td>0</td>\n",
              "      <td>0</td>\n",
              "      <td>...</td>\n",
              "      <td>0</td>\n",
              "      <td>0</td>\n",
              "      <td>0</td>\n",
              "      <td>0</td>\n",
              "      <td>0</td>\n",
              "      <td>0</td>\n",
              "      <td>0</td>\n",
              "      <td>0</td>\n",
              "      <td>0</td>\n",
              "      <td>0</td>\n",
              "      <td>0</td>\n",
              "      <td>0</td>\n",
              "      <td>0</td>\n",
              "      <td>0</td>\n",
              "      <td>0</td>\n",
              "      <td>0</td>\n",
              "      <td>0</td>\n",
              "      <td>0</td>\n",
              "      <td>0</td>\n",
              "      <td>0</td>\n",
              "      <td>0</td>\n",
              "      <td>0</td>\n",
              "      <td>0</td>\n",
              "      <td>0</td>\n",
              "      <td>0</td>\n",
              "      <td>0</td>\n",
              "      <td>0</td>\n",
              "      <td>0</td>\n",
              "      <td>1</td>\n",
              "      <td>0</td>\n",
              "      <td>0</td>\n",
              "      <td>0</td>\n",
              "      <td>0</td>\n",
              "      <td>0</td>\n",
              "      <td>0</td>\n",
              "      <td>0</td>\n",
              "      <td>0</td>\n",
              "      <td>1</td>\n",
              "      <td>0</td>\n",
              "      <td>0</td>\n",
              "    </tr>\n",
              "    <tr>\n",
              "      <th>4</th>\n",
              "      <td>364.0</td>\n",
              "      <td>100.0</td>\n",
              "      <td>1</td>\n",
              "      <td>500</td>\n",
              "      <td>NaN</td>\n",
              "      <td>NaN</td>\n",
              "      <td>NaN</td>\n",
              "      <td>NaN</td>\n",
              "      <td>0</td>\n",
              "      <td>0</td>\n",
              "      <td>0</td>\n",
              "      <td>0</td>\n",
              "      <td>0</td>\n",
              "      <td>0</td>\n",
              "      <td>0</td>\n",
              "      <td>0</td>\n",
              "      <td>0</td>\n",
              "      <td>0</td>\n",
              "      <td>0</td>\n",
              "      <td>0</td>\n",
              "      <td>0</td>\n",
              "      <td>0</td>\n",
              "      <td>0</td>\n",
              "      <td>0</td>\n",
              "      <td>0</td>\n",
              "      <td>0</td>\n",
              "      <td>0</td>\n",
              "      <td>0</td>\n",
              "      <td>0</td>\n",
              "      <td>0</td>\n",
              "      <td>0</td>\n",
              "      <td>0</td>\n",
              "      <td>0</td>\n",
              "      <td>0</td>\n",
              "      <td>0</td>\n",
              "      <td>0</td>\n",
              "      <td>1</td>\n",
              "      <td>0</td>\n",
              "      <td>0</td>\n",
              "      <td>0</td>\n",
              "      <td>...</td>\n",
              "      <td>0</td>\n",
              "      <td>0</td>\n",
              "      <td>0</td>\n",
              "      <td>0</td>\n",
              "      <td>0</td>\n",
              "      <td>0</td>\n",
              "      <td>0</td>\n",
              "      <td>0</td>\n",
              "      <td>0</td>\n",
              "      <td>0</td>\n",
              "      <td>0</td>\n",
              "      <td>0</td>\n",
              "      <td>0</td>\n",
              "      <td>0</td>\n",
              "      <td>0</td>\n",
              "      <td>0</td>\n",
              "      <td>0</td>\n",
              "      <td>0</td>\n",
              "      <td>0</td>\n",
              "      <td>0</td>\n",
              "      <td>0</td>\n",
              "      <td>0</td>\n",
              "      <td>0</td>\n",
              "      <td>0</td>\n",
              "      <td>0</td>\n",
              "      <td>0</td>\n",
              "      <td>0</td>\n",
              "      <td>0</td>\n",
              "      <td>1</td>\n",
              "      <td>0</td>\n",
              "      <td>0</td>\n",
              "      <td>0</td>\n",
              "      <td>0</td>\n",
              "      <td>0</td>\n",
              "      <td>0</td>\n",
              "      <td>0</td>\n",
              "      <td>0</td>\n",
              "      <td>1</td>\n",
              "      <td>0</td>\n",
              "      <td>0</td>\n",
              "    </tr>\n",
              "  </tbody>\n",
              "</table>\n",
              "<p>5 rows × 436 columns</p>\n",
              "</div>"
            ],
            "text/plain": [
              "   PROPOSED_COMPLETION_HOURS  ESTIMATE_DUE_HOURS  ...  Tuesday  Wednesday\n",
              "0                      364.0               100.0  ...        0          0\n",
              "1                      364.0               100.0  ...        0          0\n",
              "2                      364.0               100.0  ...        0          0\n",
              "3                      364.0               100.0  ...        0          0\n",
              "4                      364.0               100.0  ...        0          0\n",
              "\n",
              "[5 rows x 436 columns]"
            ]
          },
          "metadata": {
            "tags": []
          },
          "execution_count": 12
        }
      ]
    },
    {
      "cell_type": "markdown",
      "metadata": {
        "id": "eNLzlJ7IcKzS"
      },
      "source": [
        "With the predictor variables now properly encoded, we will now split the dataset into a testing and training set.  All future changes in the modeling will be done only on the training set.\n",
        "\n"
      ]
    },
    {
      "cell_type": "code",
      "metadata": {
        "id": "p0RdczgYD4UR"
      },
      "source": [
        "x_train, x_test, y_train, y_test =  train_test_split(X, y,\n",
        "                                                     test_size=.33,\n",
        "                                                     random_state = RANDOM_STATE)"
      ],
      "execution_count": 13,
      "outputs": []
    },
    {
      "cell_type": "code",
      "metadata": {
        "id": "lZVcbR4Vc2-g"
      },
      "source": [
        "# getting training and testing set for the predictor variables with quantity\n",
        "# filled in with 0s\n",
        "\n",
        "# dict with columns and what value to fill\n",
        "# PROPOSED_COMPLETION_HOURS and ESTIMATE_DUE_HOURS will be filled by their mean\n",
        "# quantity columns will be filled with 0\n",
        "values = {'PROPOSED_COMPLETION_HOURS' : df['PROPOSED_COMPLETION_HOURS'].mean(),\n",
        "          'ESTIMATE_DUE_HOURS' : df['ESTIMATE_DUE_HOURS'].mean(),\n",
        "          'RFE_QUANTITY_2' : 0, 'RFE_QUANTITY_3' : 0, 'RFE_QUANTITY_4' : 0,\n",
        "          'RFE_QUANTITY_5' : 0}\n",
        "\n",
        "x_train = x_train.fillna(value = values)\n",
        "x_test = x_test.fillna(value = values)"
      ],
      "execution_count": 14,
      "outputs": []
    },
    {
      "cell_type": "code",
      "metadata": {
        "id": "NN4BJaiuhX28"
      },
      "source": [
        "# function to print scores for training and test sets\n",
        "score_cols=['Train_acc', 'Train_prec', 'Train_recall', 'Train_fscore',\n",
        "            'Test_acc','Test_prec', 'Test_recall', 'Test_fscore',\n",
        "            'Model', 'Model_version']\n",
        "all_scores = pd.DataFrame(columns=score_cols)\n",
        "\n",
        "def get_scores(train_pred, test_pred, y_train, y_test, mod, version):\n",
        "  scores_train = precision_recall_fscore_support(y_train, train_pred,\n",
        "                                                 average='binary')\n",
        "  acc_train = sum(train_pred == y_train) / len(y_train)\n",
        "  prec_train = scores_train[0]\n",
        "  recall_train = scores_train[1]\n",
        "  f_score_train = scores_train[2]\n",
        "\n",
        "  scores_test = precision_recall_fscore_support(y_test, test_pred,\n",
        "                                                average='binary')\n",
        "  acc_test = sum(test_pred == y_test) / len(y_test)\n",
        "  prec_test = scores_test[0]\n",
        "  recall_test = scores_test[1]\n",
        "  f_score_test = scores_test[2]\n",
        "\n",
        "  scores = [acc_train, prec_train, recall_train, f_score_train, \n",
        "            acc_test, prec_test, recall_test, f_score_test,\n",
        "            mod, version]\n",
        "\n",
        "  df_score = pd.DataFrame(np.reshape(scores, newshape=(1,10)),\n",
        "                          columns=score_cols)\n",
        "  return df_score"
      ],
      "execution_count": 15,
      "outputs": []
    },
    {
      "cell_type": "code",
      "metadata": {
        "colab": {
          "base_uri": "https://localhost:8080/"
        },
        "id": "FlR5nNbXaKD5",
        "outputId": "71ec591b-e5e8-4ec1-eb47-1adb92619ea9"
      },
      "source": [
        "# run a benchmark XGboost model\n",
        "\n",
        "xgb_bench = XGBClassifier(random_state=RANDOM_STATE)\n",
        "xgb_bench.fit(x_train, y_train)"
      ],
      "execution_count": 16,
      "outputs": [
        {
          "output_type": "execute_result",
          "data": {
            "text/plain": [
              "XGBClassifier(base_score=0.5, booster='gbtree', colsample_bylevel=1,\n",
              "              colsample_bynode=1, colsample_bytree=1, gamma=0,\n",
              "              learning_rate=0.1, max_delta_step=0, max_depth=3,\n",
              "              min_child_weight=1, missing=None, n_estimators=100, n_jobs=1,\n",
              "              nthread=None, objective='binary:logistic', random_state=99,\n",
              "              reg_alpha=0, reg_lambda=1, scale_pos_weight=1, seed=None,\n",
              "              silent=None, subsample=1, verbosity=1)"
            ]
          },
          "metadata": {
            "tags": []
          },
          "execution_count": 16
        }
      ]
    },
    {
      "cell_type": "code",
      "metadata": {
        "id": "OTCmSkc76NTj"
      },
      "source": [
        "# get xgboost predictions on the training set and test set\n",
        "x_train_xgb_pred_bench = xgb_bench.predict(x_train)\n",
        "x_test_xgb_pred_bench = xgb_bench.predict(x_test)"
      ],
      "execution_count": 17,
      "outputs": []
    },
    {
      "cell_type": "code",
      "metadata": {
        "colab": {
          "base_uri": "https://localhost:8080/"
        },
        "id": "hZfHCtbXg6qF",
        "outputId": "7f0f91ae-892f-4f64-d846-156667ec2822"
      },
      "source": [
        "# run a benchmark logistic regression model\n",
        "\n",
        "lr_bench = LogisticRegression(random_state=RANDOM_STATE, C=.3)\n",
        "lr_bench.fit(x_train, y_train)"
      ],
      "execution_count": 18,
      "outputs": [
        {
          "output_type": "execute_result",
          "data": {
            "text/plain": [
              "LogisticRegression(C=0.3, class_weight=None, dual=False, fit_intercept=True,\n",
              "                   intercept_scaling=1, l1_ratio=None, max_iter=100,\n",
              "                   multi_class='auto', n_jobs=None, penalty='l2',\n",
              "                   random_state=99, solver='lbfgs', tol=0.0001, verbose=0,\n",
              "                   warm_start=False)"
            ]
          },
          "metadata": {
            "tags": []
          },
          "execution_count": 18
        }
      ]
    },
    {
      "cell_type": "code",
      "metadata": {
        "id": "P0MqIMELg6_l"
      },
      "source": [
        "# get logistic regression predictions on the training set and test set\n",
        "x_train_lr_pred_bench = lr_bench.predict(x_train)\n",
        "x_test_lr_pred_bench = lr_bench.predict(x_test)"
      ],
      "execution_count": 19,
      "outputs": []
    },
    {
      "cell_type": "code",
      "metadata": {
        "colab": {
          "base_uri": "https://localhost:8080/"
        },
        "id": "jqIv5_a2g6vD",
        "outputId": "69f6721c-1c88-4410-d48e-b22c8e90b899"
      },
      "source": [
        "# run a benchmark naive_bayes model\n",
        "\n",
        "nb_bench = MultinomialNB()\n",
        "nb_bench.fit(x_train, y_train)"
      ],
      "execution_count": 20,
      "outputs": [
        {
          "output_type": "execute_result",
          "data": {
            "text/plain": [
              "MultinomialNB(alpha=1.0, class_prior=None, fit_prior=True)"
            ]
          },
          "metadata": {
            "tags": []
          },
          "execution_count": 20
        }
      ]
    },
    {
      "cell_type": "code",
      "metadata": {
        "id": "MTU72EBSjR2o"
      },
      "source": [
        "# get naive bayes predictions on the training set and test set\n",
        "x_train_nb_pred_bench = nb_bench.predict(x_train)\n",
        "x_test_nb_pred_bench = nb_bench.predict(x_test)"
      ],
      "execution_count": 21,
      "outputs": []
    },
    {
      "cell_type": "code",
      "metadata": {
        "colab": {
          "base_uri": "https://localhost:8080/"
        },
        "id": "uuJXrE9ilIqh",
        "outputId": "18a16c1c-0ac9-488e-a836-db564804124c"
      },
      "source": [
        "# run a benchmark random forest model\n",
        "\n",
        "rf_bench = RandomForestClassifier(random_state=RANDOM_STATE)\n",
        "rf_bench.fit(x_train, y_train)"
      ],
      "execution_count": 22,
      "outputs": [
        {
          "output_type": "execute_result",
          "data": {
            "text/plain": [
              "RandomForestClassifier(bootstrap=True, ccp_alpha=0.0, class_weight=None,\n",
              "                       criterion='gini', max_depth=None, max_features='auto',\n",
              "                       max_leaf_nodes=None, max_samples=None,\n",
              "                       min_impurity_decrease=0.0, min_impurity_split=None,\n",
              "                       min_samples_leaf=1, min_samples_split=2,\n",
              "                       min_weight_fraction_leaf=0.0, n_estimators=100,\n",
              "                       n_jobs=None, oob_score=False, random_state=99, verbose=0,\n",
              "                       warm_start=False)"
            ]
          },
          "metadata": {
            "tags": []
          },
          "execution_count": 22
        }
      ]
    },
    {
      "cell_type": "code",
      "metadata": {
        "id": "T7FuiHlTlI-Z"
      },
      "source": [
        "# get random forest predictions on the training set and test set\n",
        "x_train_rf_pred_bench = rf_bench.predict(x_train)\n",
        "x_test_rf_pred_bench = rf_bench.predict(x_test)"
      ],
      "execution_count": 23,
      "outputs": []
    },
    {
      "cell_type": "markdown",
      "metadata": {
        "id": "fyHueJTUliCe"
      },
      "source": [
        "## Benchmark Model comparisons"
      ]
    },
    {
      "cell_type": "code",
      "metadata": {
        "colab": {
          "base_uri": "https://localhost:8080/",
          "height": 292
        },
        "id": "DbnS0dsVlvLP",
        "outputId": "8f28d35a-37f8-4e09-b1d8-2ce459d037c0"
      },
      "source": [
        "all_scores = all_scores.append(get_scores(x_train_rf_pred_bench, x_test_rf_pred_bench, y_train, y_test, 'rf', 'benchmark'))\n",
        "all_scores = all_scores.append(get_scores(x_train_xgb_pred_bench, x_test_xgb_pred_bench, y_train, y_test, 'xgb', 'benchmark'))\n",
        "all_scores = all_scores.append(get_scores(x_train_lr_pred_bench, x_test_lr_pred_bench, y_train, y_test, 'lr', 'benchmark'))\n",
        "all_scores = all_scores.append(get_scores(x_train_nb_pred_bench, x_test_nb_pred_bench, y_train, y_test, 'nb', 'benchmark'))\n",
        "all_scores.set_index(['Model_version', 'Model'])"
      ],
      "execution_count": 24,
      "outputs": [
        {
          "output_type": "stream",
          "text": [
            "/usr/local/lib/python3.7/dist-packages/sklearn/metrics/_classification.py:1272: UndefinedMetricWarning: Precision and F-score are ill-defined and being set to 0.0 due to no predicted samples. Use `zero_division` parameter to control this behavior.\n",
            "  _warn_prf(average, modifier, msg_start, len(result))\n",
            "/usr/local/lib/python3.7/dist-packages/sklearn/metrics/_classification.py:1272: UndefinedMetricWarning: Precision and F-score are ill-defined and being set to 0.0 due to no predicted samples. Use `zero_division` parameter to control this behavior.\n",
            "  _warn_prf(average, modifier, msg_start, len(result))\n"
          ],
          "name": "stderr"
        },
        {
          "output_type": "execute_result",
          "data": {
            "text/html": [
              "<div>\n",
              "<style scoped>\n",
              "    .dataframe tbody tr th:only-of-type {\n",
              "        vertical-align: middle;\n",
              "    }\n",
              "\n",
              "    .dataframe tbody tr th {\n",
              "        vertical-align: top;\n",
              "    }\n",
              "\n",
              "    .dataframe thead th {\n",
              "        text-align: right;\n",
              "    }\n",
              "</style>\n",
              "<table border=\"1\" class=\"dataframe\">\n",
              "  <thead>\n",
              "    <tr style=\"text-align: right;\">\n",
              "      <th></th>\n",
              "      <th></th>\n",
              "      <th>Train_acc</th>\n",
              "      <th>Train_prec</th>\n",
              "      <th>Train_recall</th>\n",
              "      <th>Train_fscore</th>\n",
              "      <th>Test_acc</th>\n",
              "      <th>Test_prec</th>\n",
              "      <th>Test_recall</th>\n",
              "      <th>Test_fscore</th>\n",
              "    </tr>\n",
              "    <tr>\n",
              "      <th>Model_version</th>\n",
              "      <th>Model</th>\n",
              "      <th></th>\n",
              "      <th></th>\n",
              "      <th></th>\n",
              "      <th></th>\n",
              "      <th></th>\n",
              "      <th></th>\n",
              "      <th></th>\n",
              "      <th></th>\n",
              "    </tr>\n",
              "  </thead>\n",
              "  <tbody>\n",
              "    <tr>\n",
              "      <th rowspan=\"4\" valign=\"top\">benchmark</th>\n",
              "      <th>rf</th>\n",
              "      <td>0.9997408039397802</td>\n",
              "      <td>0.9984181386765094</td>\n",
              "      <td>0.9984181386765094</td>\n",
              "      <td>0.9984181386765094</td>\n",
              "      <td>0.949921066479565</td>\n",
              "      <td>0.7838479809976246</td>\n",
              "      <td>0.5325443786982249</td>\n",
              "      <td>0.6342088404868674</td>\n",
              "    </tr>\n",
              "    <tr>\n",
              "      <th>xgb</th>\n",
              "      <td>0.9340346026740394</td>\n",
              "      <td>0.8821096173733195</td>\n",
              "      <td>0.22488795148958607</td>\n",
              "      <td>0.3584033613445378</td>\n",
              "      <td>0.9321610243816875</td>\n",
              "      <td>0.8406113537117904</td>\n",
              "      <td>0.20710059171597633</td>\n",
              "      <td>0.33232628398791536</td>\n",
              "    </tr>\n",
              "    <tr>\n",
              "      <th>lr</th>\n",
              "      <td>0.9180724452988315</td>\n",
              "      <td>0.0</td>\n",
              "      <td>0.0</td>\n",
              "      <td>0.0</td>\n",
              "      <td>0.9184792141729521</td>\n",
              "      <td>0.0</td>\n",
              "      <td>0.0</td>\n",
              "      <td>0.0</td>\n",
              "    </tr>\n",
              "    <tr>\n",
              "      <th>nb</th>\n",
              "      <td>0.32801261420826405</td>\n",
              "      <td>0.08611599297012303</td>\n",
              "      <td>0.7492749802267334</td>\n",
              "      <td>0.1544775105313222</td>\n",
              "      <td>0.3171373443255569</td>\n",
              "      <td>0.08336877924287538</td>\n",
              "      <td>0.7380311995696611</td>\n",
              "      <td>0.1498143699497707</td>\n",
              "    </tr>\n",
              "  </tbody>\n",
              "</table>\n",
              "</div>"
            ],
            "text/plain": [
              "                               Train_acc  ...          Test_fscore\n",
              "Model_version Model                       ...                     \n",
              "benchmark     rf      0.9997408039397802  ...   0.6342088404868674\n",
              "              xgb     0.9340346026740394  ...  0.33232628398791536\n",
              "              lr      0.9180724452988315  ...                  0.0\n",
              "              nb     0.32801261420826405  ...   0.1498143699497707\n",
              "\n",
              "[4 rows x 8 columns]"
            ]
          },
          "metadata": {
            "tags": []
          },
          "execution_count": 24
        }
      ]
    },
    {
      "cell_type": "markdown",
      "metadata": {
        "id": "BYlbXb55m9Ew"
      },
      "source": [
        "The Test_fscore is the most important metric, as it shows how well a model performs on data it hasn't seen and is a combination of the precision and recall.  The accuracies seem high across the differenbt models (except naive bayes) but, due to the data have such an imbalanced IS_SUBMIT_ESTIMATE, a model could predict everything as a 0 for IS_SUBMIT_ESTIMATE and wind up with a high accuracy.  Therefore, accuracy is not a great metric.\n",
        "\n",
        "It seems that logistic regression and naive bayes perform the most poorly, with logistic regression running into errors calculating scores due to the fact that the algorithm is outputting all 0s.\n",
        "\n",
        "The random forest model fares much better on the training set compared to xgboost with an fscore of almost 1.  However, the fact that the testing sets are relatively similar shows how much the random forest model is overfitting on the data.\n",
        "\n",
        "We will proceed by balancing the data and then looking at both xgboost and random forest models."
      ]
    },
    {
      "cell_type": "markdown",
      "metadata": {
        "id": "nC8VIoVb80Aq"
      },
      "source": [
        "# Balancing data - can skip to comparing all scores section to see results"
      ]
    },
    {
      "cell_type": "markdown",
      "metadata": {
        "id": "pnsvm2mi9EG_"
      },
      "source": [
        "With only 8% of the observations having an \"IS_SUBMIT_ESTIMATE\" of 1, this is very imbalanced dataset.  As this is troublesome for machine learning models, we will proceed by balancing the class distributions with different techniques and compare their effects.  The class balancing will only occur on the training set.\n",
        "\n",
        "**A csv has been saved with all the scores so retraining all the models to get the scores for different balancing methods will not be needed.  This csv is called 'balancing_scores.csv'.  Therefore all the code can be commented out except for the ones that perform the best.**"
      ]
    },
    {
      "cell_type": "markdown",
      "metadata": {
        "id": "i6LJsX0WVVR5"
      },
      "source": [
        "## Smote"
      ]
    },
    {
      "cell_type": "markdown",
      "metadata": {
        "id": "qj4fOpUXVXmm"
      },
      "source": [
        "Our first class balancing techqnique will be SMOTE (synthetic minority oversampling technique).\n",
        "\n",
        "On a high level, SMOTE randomly picks a point from the minority class and computes KNN on it.  New synthetic points are added between this point and the neighbors, which increases instances of the minority class, hence being an oversampling technique.  "
      ]
    },
    {
      "cell_type": "code",
      "metadata": {
        "id": "sFY_oGyk6Ret",
        "colab": {
          "base_uri": "https://localhost:8080/"
        },
        "outputId": "4707280f-0544-471f-af7d-04dfa288b32e"
      },
      "source": [
        "smote = SMOTE(random_state=RANDOM_STATE)\n",
        "smote_x, smote_y = smote.fit_resample(x_train, y_train)\n",
        "smote_x = pd.DataFrame(data=smote_x, columns=x_train.columns)\n",
        "smote_y = pd.Series(data=smote_y, name = 'IS_SUBMIT_ESTIMATE')"
      ],
      "execution_count": 25,
      "outputs": [
        {
          "output_type": "stream",
          "text": [
            "/usr/local/lib/python3.7/dist-packages/sklearn/utils/deprecation.py:87: FutureWarning: Function safe_indexing is deprecated; safe_indexing is deprecated in version 0.22 and will be removed in version 0.24.\n",
            "  warnings.warn(msg, category=FutureWarning)\n"
          ],
          "name": "stderr"
        }
      ]
    },
    {
      "cell_type": "code",
      "metadata": {
        "id": "csJAo07D6RYy"
      },
      "source": [
        "# run a forest model on smote-balanced data\n",
        "rf_smote = RandomForestClassifier(random_state=RANDOM_STATE)\n",
        "rf_smote.fit(smote_x, smote_y)\n",
        "\n",
        "# get random forest predictions on the training set and test set\n",
        "x_train_rf_pred_smote = rf_smote.predict(smote_x)\n",
        "x_test_rf_pred_smote = rf_smote.predict(x_test)"
      ],
      "execution_count": 26,
      "outputs": []
    },
    {
      "cell_type": "code",
      "metadata": {
        "id": "rFjvx78lpcjc"
      },
      "source": [
        "# # run XGboost model on smote-balanced data\n",
        "# xgb_smote = XGBClassifier(random_state=RANDOM_STATE)\n",
        "# xgb_smote.fit(smote_x, smote_y)\n",
        "\n",
        "# # get xgboost predictions on the training set and test set\n",
        "# x_train_xgb_pred_smote = xgb_smote.predict(smote_x)\n",
        "# x_test_xgb_pred_smote = xgb_smote.predict(x_test)"
      ],
      "execution_count": 27,
      "outputs": []
    },
    {
      "cell_type": "code",
      "metadata": {
        "id": "DMOBKOdPDvUJ"
      },
      "source": [
        "# # run logistic regression model on smote-balanced data\n",
        "# lr_smote = LogisticRegression(random_state=RANDOM_STATE)\n",
        "# lr_smote.fit(smote_x, smote_y)\n",
        "\n",
        "# # get logistic regression predictions on the training set and test set\n",
        "# x_train_lr_pred_smote = lr_smote.predict(smote_x)\n",
        "# x_test_lr_pred_smote = lr_smote.predict(x_test)"
      ],
      "execution_count": 28,
      "outputs": []
    },
    {
      "cell_type": "code",
      "metadata": {
        "id": "rxvqiJYAEKWl"
      },
      "source": [
        "# # run Naive Bayes model on smote-balanced data\n",
        "# nb_smote = MultinomialNB()\n",
        "# nb_smote.fit(smote_x, smote_y)\n",
        "\n",
        "# # get logistic regression predictions on the training set and test set\n",
        "# x_train_nb_pred_smote = nb_smote.predict(smote_x)\n",
        "# x_test_nb_pred_smote = nb_smote.predict(x_test)"
      ],
      "execution_count": 29,
      "outputs": []
    },
    {
      "cell_type": "code",
      "metadata": {
        "id": "Oj-qKRSSoZiz"
      },
      "source": [
        "# all_scores = all_scores.append(get_scores(x_train_rf_pred_smote, x_test_rf_pred_smote, smote_y, y_test, 'rf', 'smote'))\n",
        "# all_scores = all_scores.append(get_scores(x_train_xgb_pred_smote, x_test_xgb_pred_smote, smote_y, y_test, 'xgb', 'smote'))\n",
        "# all_scores = all_scores.append(get_scores(x_train_lr_pred_smote, x_test_lr_pred_smote, smote_y, y_test, 'lr', 'smote'))\n",
        "# all_scores = all_scores.append(get_scores(x_train_nb_pred_smote, x_test_nb_pred_smote, smote_y, y_test, 'nb', 'smote'))\n",
        "# all_scores.set_index(['Model_version', 'Model'])"
      ],
      "execution_count": 30,
      "outputs": []
    },
    {
      "cell_type": "markdown",
      "metadata": {
        "id": "vT6KIELeYfOf"
      },
      "source": [
        "## Tomek links"
      ]
    },
    {
      "cell_type": "markdown",
      "metadata": {
        "id": "PaInFu2TYmU2"
      },
      "source": [
        "A Tomek links is a pair of observations that are are close together, but have different classes.  By removing the majority class within a pair, we can undersample the data."
      ]
    },
    {
      "cell_type": "code",
      "metadata": {
        "id": "3ws9afOYYlyP"
      },
      "source": [
        "# tl = TomekLinks(sampling_strategy='majority')\n",
        "# tl_x, tl_y = tl.fit_resample(x_train, y_train)\n",
        "# tl_x = pd.DataFrame(data = tl_x, columns = x_train.columns)\n",
        "# tl_y = pd.Series(data=tl_y, name = 'IS_SUBMIT_ESTIMATE')"
      ],
      "execution_count": 31,
      "outputs": []
    },
    {
      "cell_type": "code",
      "metadata": {
        "id": "bUD-kxVwoZcM"
      },
      "source": [
        "# # run a random forest model on Token link-balanced data\n",
        "# rf_tl = RandomForestClassifier(random_state=RANDOM_STATE)\n",
        "# rf_tl.fit(tl_x, tl_y)\n",
        "# # get random forest predictions on the training set and test set\n",
        "# x_train_rf_pred_tl = rf_tl.predict(tl_x)\n",
        "# x_test_rf_pred_tl = rf_tl.predict(x_test)\n",
        "\n",
        "# # run XGboost model on Token link-balanced data\n",
        "# xgb_tl = XGBClassifier(random_state=RANDOM_STATE)\n",
        "# xgb_tl.fit(tl_x, tl_y)\n",
        "# # get xgboost predictions on the training set and test set\n",
        "# x_train_xgb_pred_tl = xgb_tl.predict(tl_x)\n",
        "# x_test_xgb_pred_tl = xgb_tl.predict(x_test)\n",
        "\n",
        "# # run logistic regression model on Token link-balanced data\n",
        "# lr_tl = LogisticRegression(random_state=RANDOM_STATE)\n",
        "# lr_tl.fit(tl_x, tl_y)\n",
        "# # get logistic regression predictions on the training set and test set\n",
        "# x_train_lr_pred_tl = lr_tl.predict(tl_x)\n",
        "# x_test_lr_pred_tl = lr_tl.predict(x_test)\n",
        "\n",
        "# # run Naive Bayes model on Token link-balanced data\n",
        "# nb_tl = MultinomialNB()\n",
        "# nb_tl.fit(tl_x, tl_y)\n",
        "# # get logistic regression predictions on the training set and test set\n",
        "# x_train_nb_pred_tl = nb_tl.predict(tl_x)\n",
        "# x_test_nb_pred_tl = nb_tl.predict(x_test)"
      ],
      "execution_count": 32,
      "outputs": []
    },
    {
      "cell_type": "markdown",
      "metadata": {
        "id": "si6JrhZnefuh"
      },
      "source": [
        "## NearMiss\n"
      ]
    },
    {
      "cell_type": "markdown",
      "metadata": {
        "id": "Y-64-KPPei6a"
      },
      "source": [
        "We can look at NearMiss, another undersampling technique.  This algorithm eliminates observations in the majority class based on distance between points."
      ]
    },
    {
      "cell_type": "code",
      "metadata": {
        "id": "w7MFP1mveev8"
      },
      "source": [
        "# nm = NearMiss(sampling_strategy='majority')\n",
        "# nm_x, nm_y = nm.fit_resample(x_train, y_train)\n",
        "# nm_x = pd.DataFrame(data = nm_x, columns = x_train.columns)\n",
        "# nm_y = pd.Series(data=nm_y, name = 'IS_SUBMIT_ESTIMATE')"
      ],
      "execution_count": 33,
      "outputs": []
    },
    {
      "cell_type": "code",
      "metadata": {
        "id": "BV9vTHppeetJ"
      },
      "source": [
        "# # run a random forest model on Token link-balanced data\n",
        "# rf_nm = RandomForestClassifier(random_state=RANDOM_STATE)\n",
        "# rf_nm.fit(nm_x, nm_y)\n",
        "# # get random forest predictions on the training set and test set\n",
        "# x_train_rf_pred_nm = rf_nm.predict(nm_x)\n",
        "# x_test_rf_pred_nm = rf_nm.predict(x_test)\n",
        "\n",
        "# # run XGboost model on Token link-balanced data\n",
        "# xgb_nm = XGBClassifier(random_state=RANDOM_STATE)\n",
        "# xgb_nm.fit(nm_x, nm_y)\n",
        "# # get xgboost predictions on the training set and test set\n",
        "# x_train_xgb_pred_nm = xgb_nm.predict(nm_x)\n",
        "# x_test_xgb_pred_nm = xgb_nm.predict(x_test)\n",
        "\n",
        "# # run logistic regression model on Token link-balanced data\n",
        "# lr_nm = LogisticRegression(random_state=RANDOM_STATE)\n",
        "# lr_nm.fit(nm_x, nm_y)\n",
        "# # get logistic regression predictions on the training set and test set\n",
        "# x_train_lr_pred_nm = lr_nm.predict(nm_x)\n",
        "# x_test_lr_pred_nm = lr_nm.predict(x_test)\n",
        "\n",
        "# # run Naive Bayes model on Token link-balanced data\n",
        "# nb_nm = MultinomialNB()\n",
        "# nb_nm.fit(nm_x, nm_y)\n",
        "# # get logistic regression predictions on the training set and test set\n",
        "# x_train_nb_pred_nm = nb_nm.predict(nm_x)\n",
        "# x_test_nb_pred_nm = nb_nm.predict(x_test)"
      ],
      "execution_count": 34,
      "outputs": []
    },
    {
      "cell_type": "markdown",
      "metadata": {
        "id": "WxUyvRTPgitY"
      },
      "source": [
        "## SmoteTomek"
      ]
    },
    {
      "cell_type": "markdown",
      "metadata": {
        "id": "HA2cBzYPg4gs"
      },
      "source": [
        "The last balancing method we will look at is Smote Tomek.  It essentially combines Smote and Tomek links by first using SMOTE then cleaning with Tomek Links."
      ]
    },
    {
      "cell_type": "code",
      "metadata": {
        "colab": {
          "base_uri": "https://localhost:8080/"
        },
        "id": "HNjtyHnjVM6F",
        "outputId": "7861ebee-faf8-44aa-d651-f1c000665ab8"
      },
      "source": [
        "smo_tl = SMOTETomek(random_state=RANDOM_STATE)\n",
        "smo_tl_x, smo_tl_y = smo_tl.fit_resample(x_train, y_train)\n",
        "smo_tl_x = pd.DataFrame(data = smo_tl_x, columns = x_train.columns)\n",
        "smo_tl_y = pd.Series(data=smo_tl_y, name = 'IS_SUBMIT_ESTIMATE')"
      ],
      "execution_count": 35,
      "outputs": [
        {
          "output_type": "stream",
          "text": [
            "/usr/local/lib/python3.7/dist-packages/sklearn/utils/deprecation.py:87: FutureWarning: Function safe_indexing is deprecated; safe_indexing is deprecated in version 0.22 and will be removed in version 0.24.\n",
            "  warnings.warn(msg, category=FutureWarning)\n",
            "/usr/local/lib/python3.7/dist-packages/sklearn/utils/deprecation.py:87: FutureWarning: Function safe_indexing is deprecated; safe_indexing is deprecated in version 0.22 and will be removed in version 0.24.\n",
            "  warnings.warn(msg, category=FutureWarning)\n"
          ],
          "name": "stderr"
        }
      ]
    },
    {
      "cell_type": "code",
      "metadata": {
        "id": "9h4_OwrSVM3E"
      },
      "source": [
        "# run a random forest model on Token link-balanced data\n",
        "rf_smo_tl = RandomForestClassifier(random_state=RANDOM_STATE)\n",
        "rf_smo_tl.fit(smo_tl_x, smo_tl_y)\n",
        "# get random forest predictions on the training set and test set\n",
        "x_train_rf_pred_smo_tl = rf_smo_tl.predict(smo_tl_x)\n",
        "x_test_rf_pred_smo_tl = rf_smo_tl.predict(x_test)\n",
        "\n",
        "# # run XGboost model on Token link-balanced data\n",
        "# xgb_smo_tl = XGBClassifier(random_state=RANDOM_STATE)\n",
        "# xgb_smo_tl.fit(smo_tl_x, smo_tl_y)\n",
        "# # get xgboost predictions on the training set and test set\n",
        "# x_train_xgb_pred_smo_tl = xgb_smo_tl.predict(smo_tl_x)\n",
        "# x_test_xgb_pred_smo_tl = xgb_smo_tl.predict(x_test)\n",
        "\n",
        "# # run logistic regression model on Token link-balanced data\n",
        "# lr_smo_tl = LogisticRegression(random_state=RANDOM_STATE)\n",
        "# lr_smo_tl.fit(smo_tl_x, smo_tl_y)\n",
        "# # get logistic regression predictions on the training set and test set\n",
        "# x_train_lr_pred_smo_tl = lr_smo_tl.predict(smo_tl_x)\n",
        "# x_test_lr_pred_smo_tl = lr_smo_tl.predict(x_test)\n",
        "\n",
        "# # run Naive Bayes model on Token link-balanced data\n",
        "# nb_smo_tl = MultinomialNB()\n",
        "# nb_smo_tl.fit(smo_tl_x, smo_tl_y)\n",
        "# # get logistic regression predictions on the training set and test set\n",
        "# x_train_nb_pred_smo_tl = nb_smo_tl.predict(smo_tl_x)\n",
        "# x_test_nb_pred_smo_tl = nb_smo_tl.predict(x_test)"
      ],
      "execution_count": 36,
      "outputs": []
    },
    {
      "cell_type": "markdown",
      "metadata": {
        "id": "3mSFVNJ-BdPa"
      },
      "source": [
        "## Comparing all scores"
      ]
    },
    {
      "cell_type": "code",
      "metadata": {
        "id": "62abqYqo-_Qz"
      },
      "source": [
        "# # saving scores so we don't need to retrain all predictors again to\n",
        "# # get the scores\n",
        "\n",
        "# all_scores.to_csv('balancing_scores.csv')"
      ],
      "execution_count": 37,
      "outputs": []
    },
    {
      "cell_type": "code",
      "metadata": {
        "colab": {
          "base_uri": "https://localhost:8080/",
          "height": 700
        },
        "id": "_nnpKRjr_2pQ",
        "outputId": "67ddfbdd-ea76-47cd-d499-be918a894fd9"
      },
      "source": [
        "# Getting previously saved csv of all the scores.\n",
        "\n",
        "all_scores = pd.read_csv('balancing_scores.csv')\n",
        "all_scores.set_index(['Model_version', 'Model'])"
      ],
      "execution_count": 38,
      "outputs": [
        {
          "output_type": "execute_result",
          "data": {
            "text/html": [
              "<div>\n",
              "<style scoped>\n",
              "    .dataframe tbody tr th:only-of-type {\n",
              "        vertical-align: middle;\n",
              "    }\n",
              "\n",
              "    .dataframe tbody tr th {\n",
              "        vertical-align: top;\n",
              "    }\n",
              "\n",
              "    .dataframe thead th {\n",
              "        text-align: right;\n",
              "    }\n",
              "</style>\n",
              "<table border=\"1\" class=\"dataframe\">\n",
              "  <thead>\n",
              "    <tr style=\"text-align: right;\">\n",
              "      <th></th>\n",
              "      <th></th>\n",
              "      <th>Unnamed: 0</th>\n",
              "      <th>Train_acc</th>\n",
              "      <th>Train_prec</th>\n",
              "      <th>Train_recall</th>\n",
              "      <th>Train_fscore</th>\n",
              "      <th>Test_acc</th>\n",
              "      <th>Test_prec</th>\n",
              "      <th>Test_recall</th>\n",
              "      <th>Test_fscore</th>\n",
              "    </tr>\n",
              "    <tr>\n",
              "      <th>Model_version</th>\n",
              "      <th>Model</th>\n",
              "      <th></th>\n",
              "      <th></th>\n",
              "      <th></th>\n",
              "      <th></th>\n",
              "      <th></th>\n",
              "      <th></th>\n",
              "      <th></th>\n",
              "      <th></th>\n",
              "      <th></th>\n",
              "    </tr>\n",
              "  </thead>\n",
              "  <tbody>\n",
              "    <tr>\n",
              "      <th rowspan=\"4\" valign=\"top\">benchmark</th>\n",
              "      <th>rf</th>\n",
              "      <td>0</td>\n",
              "      <td>0.999741</td>\n",
              "      <td>0.998418</td>\n",
              "      <td>0.998418</td>\n",
              "      <td>0.998418</td>\n",
              "      <td>0.949921</td>\n",
              "      <td>0.783848</td>\n",
              "      <td>0.532544</td>\n",
              "      <td>0.634209</td>\n",
              "    </tr>\n",
              "    <tr>\n",
              "      <th>xgb</th>\n",
              "      <td>0</td>\n",
              "      <td>0.934035</td>\n",
              "      <td>0.882110</td>\n",
              "      <td>0.224888</td>\n",
              "      <td>0.358403</td>\n",
              "      <td>0.932161</td>\n",
              "      <td>0.840611</td>\n",
              "      <td>0.207101</td>\n",
              "      <td>0.332326</td>\n",
              "    </tr>\n",
              "    <tr>\n",
              "      <th>lr</th>\n",
              "      <td>0</td>\n",
              "      <td>0.918072</td>\n",
              "      <td>0.000000</td>\n",
              "      <td>0.000000</td>\n",
              "      <td>0.000000</td>\n",
              "      <td>0.918479</td>\n",
              "      <td>0.000000</td>\n",
              "      <td>0.000000</td>\n",
              "      <td>0.000000</td>\n",
              "    </tr>\n",
              "    <tr>\n",
              "      <th>nb</th>\n",
              "      <td>0</td>\n",
              "      <td>0.328013</td>\n",
              "      <td>0.086116</td>\n",
              "      <td>0.749275</td>\n",
              "      <td>0.154478</td>\n",
              "      <td>0.317137</td>\n",
              "      <td>0.083369</td>\n",
              "      <td>0.738031</td>\n",
              "      <td>0.149814</td>\n",
              "    </tr>\n",
              "    <tr>\n",
              "      <th rowspan=\"4\" valign=\"top\">smote</th>\n",
              "      <th>rf</th>\n",
              "      <td>0</td>\n",
              "      <td>0.999859</td>\n",
              "      <td>0.999812</td>\n",
              "      <td>0.999906</td>\n",
              "      <td>0.999859</td>\n",
              "      <td>0.949658</td>\n",
              "      <td>0.758170</td>\n",
              "      <td>0.561592</td>\n",
              "      <td>0.645241</td>\n",
              "    </tr>\n",
              "    <tr>\n",
              "      <th>xgb</th>\n",
              "      <td>0</td>\n",
              "      <td>0.911326</td>\n",
              "      <td>0.986423</td>\n",
              "      <td>0.834133</td>\n",
              "      <td>0.903908</td>\n",
              "      <td>0.936020</td>\n",
              "      <td>0.713675</td>\n",
              "      <td>0.359333</td>\n",
              "      <td>0.477996</td>\n",
              "    </tr>\n",
              "    <tr>\n",
              "      <th>lr</th>\n",
              "      <td>0</td>\n",
              "      <td>0.514716</td>\n",
              "      <td>0.514404</td>\n",
              "      <td>0.525551</td>\n",
              "      <td>0.519918</td>\n",
              "      <td>0.504561</td>\n",
              "      <td>0.087059</td>\n",
              "      <td>0.535234</td>\n",
              "      <td>0.149759</td>\n",
              "    </tr>\n",
              "    <tr>\n",
              "      <th>nb</th>\n",
              "      <td>0</td>\n",
              "      <td>0.524245</td>\n",
              "      <td>0.516206</td>\n",
              "      <td>0.772280</td>\n",
              "      <td>0.618797</td>\n",
              "      <td>0.305692</td>\n",
              "      <td>0.084107</td>\n",
              "      <td>0.760086</td>\n",
              "      <td>0.151455</td>\n",
              "    </tr>\n",
              "    <tr>\n",
              "      <th rowspan=\"4\" valign=\"top\">tl</th>\n",
              "      <th>rf</th>\n",
              "      <td>0</td>\n",
              "      <td>0.999697</td>\n",
              "      <td>0.998944</td>\n",
              "      <td>0.997364</td>\n",
              "      <td>0.998153</td>\n",
              "      <td>0.949570</td>\n",
              "      <td>0.780237</td>\n",
              "      <td>0.530931</td>\n",
              "      <td>0.631882</td>\n",
              "    </tr>\n",
              "    <tr>\n",
              "      <th>xgb</th>\n",
              "      <td>0</td>\n",
              "      <td>0.934118</td>\n",
              "      <td>0.870809</td>\n",
              "      <td>0.232797</td>\n",
              "      <td>0.367381</td>\n",
              "      <td>0.932950</td>\n",
              "      <td>0.838115</td>\n",
              "      <td>0.220011</td>\n",
              "      <td>0.348530</td>\n",
              "    </tr>\n",
              "    <tr>\n",
              "      <th>lr</th>\n",
              "      <td>0</td>\n",
              "      <td>0.917826</td>\n",
              "      <td>0.000000</td>\n",
              "      <td>0.000000</td>\n",
              "      <td>0.000000</td>\n",
              "      <td>0.918479</td>\n",
              "      <td>0.000000</td>\n",
              "      <td>0.000000</td>\n",
              "      <td>0.000000</td>\n",
              "    </tr>\n",
              "    <tr>\n",
              "      <th>nb</th>\n",
              "      <td>0</td>\n",
              "      <td>0.327311</td>\n",
              "      <td>0.086351</td>\n",
              "      <td>0.750066</td>\n",
              "      <td>0.154872</td>\n",
              "      <td>0.316173</td>\n",
              "      <td>0.083257</td>\n",
              "      <td>0.738031</td>\n",
              "      <td>0.149635</td>\n",
              "    </tr>\n",
              "    <tr>\n",
              "      <th rowspan=\"4\" valign=\"top\">nm</th>\n",
              "      <th>rf</th>\n",
              "      <td>0</td>\n",
              "      <td>0.998682</td>\n",
              "      <td>0.998945</td>\n",
              "      <td>0.998418</td>\n",
              "      <td>0.998681</td>\n",
              "      <td>0.819681</td>\n",
              "      <td>0.293568</td>\n",
              "      <td>0.861754</td>\n",
              "      <td>0.437944</td>\n",
              "    </tr>\n",
              "    <tr>\n",
              "      <th>xgb</th>\n",
              "      <td>0</td>\n",
              "      <td>0.816109</td>\n",
              "      <td>0.926084</td>\n",
              "      <td>0.687055</td>\n",
              "      <td>0.788860</td>\n",
              "      <td>0.907604</td>\n",
              "      <td>0.455007</td>\n",
              "      <td>0.674556</td>\n",
              "      <td>0.543445</td>\n",
              "    </tr>\n",
              "    <tr>\n",
              "      <th>lr</th>\n",
              "      <td>0</td>\n",
              "      <td>0.499868</td>\n",
              "      <td>0.498920</td>\n",
              "      <td>0.060902</td>\n",
              "      <td>0.108553</td>\n",
              "      <td>0.869014</td>\n",
              "      <td>0.092486</td>\n",
              "      <td>0.068854</td>\n",
              "      <td>0.078939</td>\n",
              "    </tr>\n",
              "    <tr>\n",
              "      <th>nb</th>\n",
              "      <td>0</td>\n",
              "      <td>0.506327</td>\n",
              "      <td>0.503655</td>\n",
              "      <td>0.871869</td>\n",
              "      <td>0.638479</td>\n",
              "      <td>0.184354</td>\n",
              "      <td>0.081077</td>\n",
              "      <td>0.871436</td>\n",
              "      <td>0.148352</td>\n",
              "    </tr>\n",
              "    <tr>\n",
              "      <th rowspan=\"4\" valign=\"top\">smo_tl</th>\n",
              "      <th>rf</th>\n",
              "      <td>0</td>\n",
              "      <td>0.999859</td>\n",
              "      <td>0.999882</td>\n",
              "      <td>0.999835</td>\n",
              "      <td>0.999859</td>\n",
              "      <td>0.949483</td>\n",
              "      <td>0.751601</td>\n",
              "      <td>0.568047</td>\n",
              "      <td>0.647059</td>\n",
              "    </tr>\n",
              "    <tr>\n",
              "      <th>xgb</th>\n",
              "      <td>0</td>\n",
              "      <td>0.911382</td>\n",
              "      <td>0.986422</td>\n",
              "      <td>0.834247</td>\n",
              "      <td>0.903975</td>\n",
              "      <td>0.936020</td>\n",
              "      <td>0.713675</td>\n",
              "      <td>0.359333</td>\n",
              "      <td>0.477996</td>\n",
              "    </tr>\n",
              "    <tr>\n",
              "      <th>lr</th>\n",
              "      <td>0</td>\n",
              "      <td>0.514519</td>\n",
              "      <td>0.514216</td>\n",
              "      <td>0.525166</td>\n",
              "      <td>0.519634</td>\n",
              "      <td>0.504517</td>\n",
              "      <td>0.086835</td>\n",
              "      <td>0.533620</td>\n",
              "      <td>0.149364</td>\n",
              "    </tr>\n",
              "    <tr>\n",
              "      <th>nb</th>\n",
              "      <td>0</td>\n",
              "      <td>0.524261</td>\n",
              "      <td>0.516216</td>\n",
              "      <td>0.772313</td>\n",
              "      <td>0.618815</td>\n",
              "      <td>0.305692</td>\n",
              "      <td>0.084157</td>\n",
              "      <td>0.760624</td>\n",
              "      <td>0.151546</td>\n",
              "    </tr>\n",
              "  </tbody>\n",
              "</table>\n",
              "</div>"
            ],
            "text/plain": [
              "                     Unnamed: 0  Train_acc  ...  Test_recall  Test_fscore\n",
              "Model_version Model                         ...                          \n",
              "benchmark     rf              0   0.999741  ...     0.532544     0.634209\n",
              "              xgb             0   0.934035  ...     0.207101     0.332326\n",
              "              lr              0   0.918072  ...     0.000000     0.000000\n",
              "              nb              0   0.328013  ...     0.738031     0.149814\n",
              "smote         rf              0   0.999859  ...     0.561592     0.645241\n",
              "              xgb             0   0.911326  ...     0.359333     0.477996\n",
              "              lr              0   0.514716  ...     0.535234     0.149759\n",
              "              nb              0   0.524245  ...     0.760086     0.151455\n",
              "tl            rf              0   0.999697  ...     0.530931     0.631882\n",
              "              xgb             0   0.934118  ...     0.220011     0.348530\n",
              "              lr              0   0.917826  ...     0.000000     0.000000\n",
              "              nb              0   0.327311  ...     0.738031     0.149635\n",
              "nm            rf              0   0.998682  ...     0.861754     0.437944\n",
              "              xgb             0   0.816109  ...     0.674556     0.543445\n",
              "              lr              0   0.499868  ...     0.068854     0.078939\n",
              "              nb              0   0.506327  ...     0.871436     0.148352\n",
              "smo_tl        rf              0   0.999859  ...     0.568047     0.647059\n",
              "              xgb             0   0.911382  ...     0.359333     0.477996\n",
              "              lr              0   0.514519  ...     0.533620     0.149364\n",
              "              nb              0   0.524261  ...     0.760624     0.151546\n",
              "\n",
              "[20 rows x 9 columns]"
            ]
          },
          "metadata": {
            "tags": []
          },
          "execution_count": 38
        }
      ]
    },
    {
      "cell_type": "markdown",
      "metadata": {
        "id": "HfzEu4RAIVVM"
      },
      "source": [
        "Tree based models (such as random forest and xgboost) naturally already work well with imbalanced datasets, so it is not surprising that, with some of the balancing methods, they both suffered on the testing set as their Test_fscore went lower.\n",
        "\n",
        "For the two non-tree based models we looked at (logistic regression and naive bayes), it seems that using all balancing methods improved or at least didn't really affect the f score for the testing set.\n",
        "\n",
        "It seems that the random forest model trained on data balanced with SMOTE Tomek performs the best, with SMOTE also doing well.  We will therefore proceed with this model and these two data balancing techniques.\n"
      ]
    },
    {
      "cell_type": "markdown",
      "metadata": {
        "id": "2YukCU6jpDBq"
      },
      "source": [
        "# Feature Engineering"
      ]
    },
    {
      "cell_type": "markdown",
      "metadata": {
        "id": "xD-3fxhBpI8U"
      },
      "source": [
        "With an ideal method of balancing the dataset found, we can move onto feature engineering.  We can start by looking at the most important variables for the random forest and xgboost models.\n",
        "\n",
        "**As with the scores for different balancing methods, we will also save a csv of the best scores from feature engineering so models will not need to be retrained.**"
      ]
    },
    {
      "cell_type": "code",
      "metadata": {
        "id": "RyM4LNcUArAW"
      },
      "source": [
        "# Random forest features for SMOTE_TL\n",
        "rf_smo_tl_feat_imp = pd.DataFrame(smo_tl_x.columns, columns=['Predictor'])\n",
        "rf_smo_tl_feat_imp['feat_imp'] = rf_smo_tl.feature_importances_\n",
        "# only getting variables with greater than .01 feature importance\n",
        "rf_smo_tl_feat_imp = rf_smo_tl_feat_imp[rf_smo_tl_feat_imp.feat_imp > .01]\n",
        "rf_smo_tl_feat_imp.sort_values(['feat_imp'], axis=0, \n",
        "                              ascending=False, inplace=True)\n",
        "\n",
        "# Random forest features for Smote\n",
        "rf_smote_feat_imp = pd.DataFrame(smote_x.columns, columns=['Predictor'])\n",
        "rf_smote_feat_imp['feat_imp'] = rf_smote.feature_importances_\n",
        "# # only getting variables with greater than .01 feature importance\n",
        "rf_smote_feat_imp = rf_smote_feat_imp[rf_smote_feat_imp.feat_imp > .01]\n",
        "rf_smote_feat_imp.sort_values(['feat_imp'], axis=0, \n",
        "                              ascending=False, inplace=True)"
      ],
      "execution_count": 39,
      "outputs": []
    },
    {
      "cell_type": "code",
      "metadata": {
        "colab": {
          "base_uri": "https://localhost:8080/",
          "height": 1000
        },
        "id": "5J2sI_CGfmeu",
        "outputId": "3fc66434-c8f3-434a-fcaf-e37e05bd8a47"
      },
      "source": [
        "# feature importance for random forest with smote tomek link\n",
        "plt.figure(figsize=(10,16))\n",
        "ax = sns.barplot(rf_smo_tl_feat_imp.feat_imp, rf_smo_tl_feat_imp.Predictor)\n",
        "plt.title('Feature Importance for Random Forest Model on SMOTE Tomek Link')"
      ],
      "execution_count": 40,
      "outputs": [
        {
          "output_type": "stream",
          "text": [
            "/usr/local/lib/python3.7/dist-packages/seaborn/_decorators.py:43: FutureWarning: Pass the following variables as keyword args: x, y. From version 0.12, the only valid positional argument will be `data`, and passing other arguments without an explicit keyword will result in an error or misinterpretation.\n",
            "  FutureWarning\n"
          ],
          "name": "stderr"
        },
        {
          "output_type": "execute_result",
          "data": {
            "text/plain": [
              "Text(0.5, 1.0, 'Feature Importance for Random Forest Model on SMOTE Tomek Link')"
            ]
          },
          "metadata": {
            "tags": []
          },
          "execution_count": 40
        },
        {
          "output_type": "display_data",
          "data": {
            "image/png": "[encoded data removed]",
            "text/plain": [
              "<Figure size 720x1152 with 1 Axes>"
            ]
          },
          "metadata": {
            "tags": [],
            "needs_background": "light"
          }
        }
      ]
    },
    {
      "cell_type": "code",
      "metadata": {
        "colab": {
          "base_uri": "https://localhost:8080/",
          "height": 1000
        },
        "id": "3bQSDFNusS53",
        "outputId": "336fba7b-cd8a-4230-cc63-12b8991eecc8"
      },
      "source": [
        "# feature importance for random forest with smote\n",
        "plt.figure(figsize=(10,16))\n",
        "ax = sns.barplot(rf_smote_feat_imp.feat_imp, rf_smote_feat_imp.Predictor)\n",
        "plt.title('Feature Importance for Random Forest Model on SMOTE')"
      ],
      "execution_count": 41,
      "outputs": [
        {
          "output_type": "stream",
          "text": [
            "/usr/local/lib/python3.7/dist-packages/seaborn/_decorators.py:43: FutureWarning: Pass the following variables as keyword args: x, y. From version 0.12, the only valid positional argument will be `data`, and passing other arguments without an explicit keyword will result in an error or misinterpretation.\n",
            "  FutureWarning\n"
          ],
          "name": "stderr"
        },
        {
          "output_type": "execute_result",
          "data": {
            "text/plain": [
              "Text(0.5, 1.0, 'Feature Importance for Random Forest Model on SMOTE')"
            ]
          },
          "metadata": {
            "tags": []
          },
          "execution_count": 41
        },
        {
          "output_type": "display_data",
          "data": {
            "image/png": "[encoded data removed]",
            "text/plain": [
              "<Figure size 720x1152 with 1 Axes>"
            ]
          },
          "metadata": {
            "tags": [],
            "needs_background": "light"
          }
        }
      ]
    },
    {
      "cell_type": "markdown",
      "metadata": {
        "id": "4QK4QUSvb93H"
      },
      "source": [
        "It seems that the only categories that provide more than .01 feature importance for the random forest models are supplier, PROPOSED_COMPLETION_HOURS, ESTIMATE_DUE_HOURS, and RFE_QUANTITY_1.  However, running a random forest model with only these 4 features would drastically reduce the test F_score (to around .58 for both smote and smote tomek link)\n",
        "\n",
        "We will proceed by looking at the least important categories and iteratively remove them to see if there are improvements."
      ]
    },
    {
      "cell_type": "code",
      "metadata": {
        "id": "clqPW3_4A998"
      },
      "source": [
        "# Random forest features for SMOTE_TL\n",
        "rf_smo_tl_least_feat_imp = pd.DataFrame(smo_tl_x.columns, columns=['Predictor'])\n",
        "rf_smo_tl_least_feat_imp['feat_imp'] = rf_smo_tl.feature_importances_\n",
        "rf_smo_tl_least_feat_imp.sort_values(['feat_imp'], axis=0, inplace=True)\n",
        "\n",
        "# Random forest features for Smote\n",
        "rf_smote_least_feat_imp = pd.DataFrame(smote_x.columns, columns=['Predictor'])\n",
        "rf_smote_least_feat_imp['feat_imp'] = rf_smote.feature_importances_\n",
        "rf_smote_least_feat_imp.sort_values(['feat_imp'], axis=0, inplace=True)"
      ],
      "execution_count": 42,
      "outputs": []
    },
    {
      "cell_type": "code",
      "metadata": {
        "colab": {
          "base_uri": "https://localhost:8080/",
          "height": 419
        },
        "id": "NuiVnX-kDWkI",
        "outputId": "d245b7da-bb98-4369-8017-1e0d6b4bef37"
      },
      "source": [
        "# Removing the categories of supplier_id to make the list easier to go through\n",
        "# Get indices where the category is supplier\n",
        "sup_cat = [True if i[-8:] != 'supplier' else False for i in rf_smo_tl_least_feat_imp.Predictor]\n",
        "rf_smo_tl_least_feat_imp[sup_cat]"
      ],
      "execution_count": 43,
      "outputs": [
        {
          "output_type": "execute_result",
          "data": {
            "text/html": [
              "<div>\n",
              "<style scoped>\n",
              "    .dataframe tbody tr th:only-of-type {\n",
              "        vertical-align: middle;\n",
              "    }\n",
              "\n",
              "    .dataframe tbody tr th {\n",
              "        vertical-align: top;\n",
              "    }\n",
              "\n",
              "    .dataframe thead th {\n",
              "        text-align: right;\n",
              "    }\n",
              "</style>\n",
              "<table border=\"1\" class=\"dataframe\">\n",
              "  <thead>\n",
              "    <tr style=\"text-align: right;\">\n",
              "      <th></th>\n",
              "      <th>Predictor</th>\n",
              "      <th>feat_imp</th>\n",
              "    </tr>\n",
              "  </thead>\n",
              "  <tbody>\n",
              "    <tr>\n",
              "      <th>52</th>\n",
              "      <td>5574299product</td>\n",
              "      <td>0.000000</td>\n",
              "    </tr>\n",
              "    <tr>\n",
              "      <th>29</th>\n",
              "      <td>4000228product</td>\n",
              "      <td>0.000004</td>\n",
              "    </tr>\n",
              "    <tr>\n",
              "      <th>47</th>\n",
              "      <td>5075056product</td>\n",
              "      <td>0.000009</td>\n",
              "    </tr>\n",
              "    <tr>\n",
              "      <th>57</th>\n",
              "      <td>5003313sp_spec</td>\n",
              "      <td>0.000023</td>\n",
              "    </tr>\n",
              "    <tr>\n",
              "      <th>50</th>\n",
              "      <td>5478413product</td>\n",
              "      <td>0.000036</td>\n",
              "    </tr>\n",
              "    <tr>\n",
              "      <th>...</th>\n",
              "      <td>...</td>\n",
              "      <td>...</td>\n",
              "    </tr>\n",
              "    <tr>\n",
              "      <th>36</th>\n",
              "      <td>4000500product</td>\n",
              "      <td>0.006530</td>\n",
              "    </tr>\n",
              "    <tr>\n",
              "      <th>4</th>\n",
              "      <td>RFE_QUANTITY_2</td>\n",
              "      <td>0.008801</td>\n",
              "    </tr>\n",
              "    <tr>\n",
              "      <th>3</th>\n",
              "      <td>RFE_QUANTITY_1</td>\n",
              "      <td>0.021749</td>\n",
              "    </tr>\n",
              "    <tr>\n",
              "      <th>1</th>\n",
              "      <td>ESTIMATE_DUE_HOURS</td>\n",
              "      <td>0.023040</td>\n",
              "    </tr>\n",
              "    <tr>\n",
              "      <th>0</th>\n",
              "      <td>PROPOSED_COMPLETION_HOURS</td>\n",
              "      <td>0.025365</td>\n",
              "    </tr>\n",
              "  </tbody>\n",
              "</table>\n",
              "<p>79 rows × 2 columns</p>\n",
              "</div>"
            ],
            "text/plain": [
              "                    Predictor  feat_imp\n",
              "52             5574299product  0.000000\n",
              "29             4000228product  0.000004\n",
              "47             5075056product  0.000009\n",
              "57             5003313sp_spec  0.000023\n",
              "50             5478413product  0.000036\n",
              "..                        ...       ...\n",
              "36             4000500product  0.006530\n",
              "4              RFE_QUANTITY_2  0.008801\n",
              "3              RFE_QUANTITY_1  0.021749\n",
              "1          ESTIMATE_DUE_HOURS  0.023040\n",
              "0   PROPOSED_COMPLETION_HOURS  0.025365\n",
              "\n",
              "[79 rows x 2 columns]"
            ]
          },
          "metadata": {
            "tags": []
          },
          "execution_count": 43
        }
      ]
    },
    {
      "cell_type": "markdown",
      "metadata": {
        "id": "GF-ncQYVGqMe"
      },
      "source": [
        "None of the categorical variables will be removed since the presence of a single category being relatively important would mean that the whole\n",
        "\n",
        "We see that, besides the individual categoricals, the 3 variables with the lowest features importances are, from lowest to highest, RFE_QUANTITY_5, RFE_ITEM_CONUT, RFE_QUANTITY_4.\n",
        "\n",
        "We can proceed by examining the results of removing different combinations of these three variables."
      ]
    },
    {
      "cell_type": "markdown",
      "metadata": {
        "id": "7OPfxE_agPOu"
      },
      "source": [
        "## Comparing models with different features removed\n"
      ]
    },
    {
      "cell_type": "code",
      "metadata": {
        "id": "pnq401DugWRl"
      },
      "source": [
        "# getting df with proper encodings and features selected above\n",
        "\n",
        "# first get list of categorical variables to be one hot encoded\n",
        "# categorical variables with no missing variables\n",
        "\n",
        "dummy_cat_rf = ['PRODUCT_TYPE_ID', 'SP_SPEC_TYPE_ID', 'SUPPLIER_USER_ID']\n",
        "# dummy_cat_rf = ['SUPPLIER_USER_ID']\n",
        "\n",
        "# # categorical variables with missing variables\n",
        "dummy_cat_miss_rf = ['month', 'dayofweek']\n",
        "# dummy_cat_miss_rf = ['dayofweek']\n",
        "\n",
        "# get list for num variables\n",
        "num_vars_rf = ['PROPOSED_COMPLETION_HOURS', 'ESTIMATE_DUE_HOURS',\n",
        "               'RFE_ITEM_CONUT', 'RFE_QUANTITY_1', 'RFE_QUANTITY_2',\n",
        "               'RFE_QUANTITY_3', 'RFE_QUANTITY_4', 'RFE_QUANTITY_5']\n",
        "\n",
        "# get the predicted variable\n",
        "y_rf = df.IS_SUBMIT_ESTIMATE\n",
        "\n",
        "# initialize df of numerical data\n",
        "X_rf = df[num_vars_rf]\n",
        "\n",
        "# dummify categorical variables\n",
        "# also dropping the first column since the information does not change if\n",
        "# all the other columns are kept\n",
        "for i in dummy_cat_rf:\n",
        "  X_rf = X_rf.join(pd.get_dummies(df[i]).iloc[:, 1:], rsuffix=i)\n",
        "\n",
        "# dummify categorical variables with missing variables and keeping all columns\n",
        "for i in dummy_cat_miss_rf:\n",
        "  X_rf = X_rf.join(pd.get_dummies(df[i]).iloc[:, :], rsuffix=i)"
      ],
      "execution_count": 59,
      "outputs": []
    },
    {
      "cell_type": "code",
      "metadata": {
        "id": "JpDSln3ZhDgK"
      },
      "source": [
        "x_train_rf, x_test_rf, y_train_rf, y_test_rf =  train_test_split(X_rf, y_rf,\n",
        "                                                     test_size=.33,\n",
        "                                                     random_state = RANDOM_STATE)\n",
        "\n",
        "# getting training and testing set for the predictor variables with quantity\n",
        "# filled in with 0s\n",
        "\n",
        "# dict with columns and what value to fill\n",
        "# PROPOSED_COMPLETION_HOURS and ESTIMATE_DUE_HOURS will be filled by their mean\n",
        "# quantity columns will be filled with 0\n",
        "values = {'PROPOSED_COMPLETION_HOURS' : df['PROPOSED_COMPLETION_HOURS'].mean(),\n",
        "          'ESTIMATE_DUE_HOURS' : df['ESTIMATE_DUE_HOURS'].mean(),\n",
        "          'RFE_QUANTITY_2' : 0, 'RFE_QUANTITY_3' : 0, 'RFE_QUANTITY_4' : 0,\n",
        "          'RFE_QUANTITY_5' : 0}\n",
        "\n",
        "x_train_rf = x_train_rf.fillna(value = values)\n",
        "x_test_rf = x_test_rf.fillna(value = values)"
      ],
      "execution_count": 60,
      "outputs": []
    },
    {
      "cell_type": "code",
      "metadata": {
        "id": "JJxwZRNmyuQV"
      },
      "source": [
        "# smo_tl = SMOTETomek(random_state=RANDOM_STATE)\n",
        "# smo_tl_x_rf, smo_tl_y_rf = smo_tl.fit_resample(x_train_rf, y_train_rf)\n",
        "# smo_tl_x_rf = pd.DataFrame(data = smo_tl_x_rf, columns = x_train_rf.columns)\n",
        "# smo_tl_y_rf = pd.Series(data=smo_tl_y_rf, name = 'IS_SUBMIT_ESTIMATE')"
      ],
      "execution_count": 46,
      "outputs": []
    },
    {
      "cell_type": "code",
      "metadata": {
        "colab": {
          "base_uri": "https://localhost:8080/"
        },
        "id": "5YuKh6X7idkw",
        "outputId": "3ed1f29f-28f4-4cc0-b61b-a268e0b6d31b"
      },
      "source": [
        "smote = SMOTE(random_state=RANDOM_STATE)\n",
        "smote_x_rf, smote_y_rf = smote.fit_resample(x_train_rf, y_train_rf)\n",
        "smote_x_rf = pd.DataFrame(data=smote_x_rf, columns=x_train_rf.columns)\n",
        "smote_y_rf = pd.Series(data=smote_y_rf, name = 'IS_SUBMIT_ESTIMATE')"
      ],
      "execution_count": 61,
      "outputs": [
        {
          "output_type": "stream",
          "text": [
            "/usr/local/lib/python3.7/dist-packages/sklearn/utils/deprecation.py:87: FutureWarning: Function safe_indexing is deprecated; safe_indexing is deprecated in version 0.22 and will be removed in version 0.24.\n",
            "  warnings.warn(msg, category=FutureWarning)\n"
          ],
          "name": "stderr"
        }
      ]
    },
    {
      "cell_type": "code",
      "metadata": {
        "id": "Urm7J_3ALkgI"
      },
      "source": [
        "# def get_pred_and_scores(cols_to_drop, balanced_x, balanced_y, balancer):\n",
        "#   name = balancer + '_no_'\n",
        "#   for i in cols_to_drop:\n",
        "#     name += i + '_'\n",
        "\n",
        "#   df_with_dropped = balanced_x.drop(cols_to_drop, axis=1)\n",
        "#   mod = RandomForestClassifier(random_state=RANDOM_STATE).fit(df_with_dropped,\n",
        "#                                                               balanced_y)\n",
        "#   train_pred = mod.predict(df_with_dropped)\n",
        "#   test_pred = mod.predict(x_test_rf.drop(cols_to_drop, axis=1))\n",
        "\n",
        "#   out = get_scores(train_pred, test_pred, balanced_y, y_test_rf,\n",
        "#                    'rf', name)\n",
        "  \n",
        "#   return out"
      ],
      "execution_count": 48,
      "outputs": []
    },
    {
      "cell_type": "code",
      "metadata": {
        "id": "zee_J6OxQxox"
      },
      "source": [
        "# best_scores = all_scores.iloc[[16,4], :]\n",
        "# best_scores"
      ],
      "execution_count": 49,
      "outputs": []
    },
    {
      "cell_type": "code",
      "metadata": {
        "id": "9XCocebPO7JU"
      },
      "source": [
        "# # Removing RFE_ITEM_CONUT\n",
        "\n",
        "# print('training smo_tl')\n",
        "# smo_tl_no_item_conut = get_pred_and_scores(['RFE_ITEM_CONUT'], smo_tl_x_rf, smo_tl_y_rf, 'smo_tl')\n",
        "# print('training smote')\n",
        "# smote_no_item_conut = get_pred_and_scores(['RFE_ITEM_CONUT'], smote_x_rf, smote_y_rf, 'smote')\n",
        "\n",
        "# best_scores = best_scores.append(smo_tl_no_item_conut)\n",
        "# best_scores = best_scores.append(smote_no_item_conut)"
      ],
      "execution_count": 50,
      "outputs": []
    },
    {
      "cell_type": "code",
      "metadata": {
        "id": "NdOdrlw-PQcN"
      },
      "source": [
        "# # Removing RFE_QUANTITY_5\n",
        "\n",
        "# print('training smo_tl')\n",
        "# smo_tl_no_quant5 = get_pred_and_scores(['RFE_QUANTITY_5'], smo_tl_x_rf, smo_tl_y_rf, 'smo_tl')\n",
        "# print('training smote')\n",
        "# smote_no_quant5 = get_pred_and_scores(['RFE_QUANTITY_5'], smote_x_rf, smote_y_rf, 'smote')\n",
        "\n",
        "# best_scores = best_scores.append(smo_tl_no_quant5)\n",
        "# best_scores = best_scores.append(smote_no_quant5)"
      ],
      "execution_count": 51,
      "outputs": []
    },
    {
      "cell_type": "code",
      "metadata": {
        "id": "V0tiY6t2WtuE"
      },
      "source": [
        "# # Removing RFE_QUANTITY_4\n",
        "\n",
        "# print('training smo_tl')\n",
        "# smo_tl_no_quant4 = get_pred_and_scores(['RFE_QUANTITY_4'], smo_tl_x_rf, smo_tl_y_rf, 'smo_tl')\n",
        "# print('training smote')\n",
        "# smote_no_quant4 = get_pred_and_scores(['RFE_QUANTITY_4'], smote_x_rf, smote_y_rf, 'smote')\n",
        "\n",
        "# best_scores = best_scores.append(smo_tl_no_quant4)\n",
        "# best_scores = best_scores.append(smote_no_quant4)"
      ],
      "execution_count": 52,
      "outputs": []
    },
    {
      "cell_type": "code",
      "metadata": {
        "id": "u-fcAFaqW7jc"
      },
      "source": [
        "# # Removing and RFE_ITEM_CONUT and RFE_QUANTITY_4\n",
        "\n",
        "# print('training smote')\n",
        "# smote_no_quant4_conut = get_pred_and_scores(['RFE_ITEM_CONUT', 'RFE_QUANTITY_4'], smote_x_rf, smote_y_rf, 'smote')\n",
        "# print('training smo_tl')\n",
        "# smo_tl_no_quant4_conut = get_pred_and_scores(['RFE_ITEM_CONUT', 'RFE_QUANTITY_4'], smo_tl_x_rf, smo_tl_y_rf, 'smo_tl')\n",
        "\n",
        "# best_scores = best_scores.append(smote_no_quant4_conut)\n",
        "# best_scores = best_scores.append(smo_tl_no_quant4_conut)"
      ],
      "execution_count": 53,
      "outputs": []
    },
    {
      "cell_type": "code",
      "metadata": {
        "id": "cG1gBOsPN27V"
      },
      "source": [
        "# best_scores.to_csv('feature_eng_scores.csv')"
      ],
      "execution_count": 54,
      "outputs": []
    },
    {
      "cell_type": "code",
      "metadata": {
        "colab": {
          "base_uri": "https://localhost:8080/",
          "height": 452
        },
        "id": "WAChYiXSMmGa",
        "outputId": "41773ddc-9545-48f4-873d-873db8c998da"
      },
      "source": [
        "best_scores = pd.read_csv('feature_eng_scores.csv')\n",
        "best_scores.set_index(['Model_version', 'Model']).sort_values('Test_fscore',\n",
        "                                                              ascending=False)"
      ],
      "execution_count": 55,
      "outputs": [
        {
          "output_type": "execute_result",
          "data": {
            "text/html": [
              "<div>\n",
              "<style scoped>\n",
              "    .dataframe tbody tr th:only-of-type {\n",
              "        vertical-align: middle;\n",
              "    }\n",
              "\n",
              "    .dataframe tbody tr th {\n",
              "        vertical-align: top;\n",
              "    }\n",
              "\n",
              "    .dataframe thead th {\n",
              "        text-align: right;\n",
              "    }\n",
              "</style>\n",
              "<table border=\"1\" class=\"dataframe\">\n",
              "  <thead>\n",
              "    <tr style=\"text-align: right;\">\n",
              "      <th></th>\n",
              "      <th></th>\n",
              "      <th>Unnamed: 0</th>\n",
              "      <th>Train_acc</th>\n",
              "      <th>Train_prec</th>\n",
              "      <th>Train_recall</th>\n",
              "      <th>Train_fscore</th>\n",
              "      <th>Test_acc</th>\n",
              "      <th>Test_prec</th>\n",
              "      <th>Test_recall</th>\n",
              "      <th>Test_fscore</th>\n",
              "    </tr>\n",
              "    <tr>\n",
              "      <th>Model_version</th>\n",
              "      <th>Model</th>\n",
              "      <th></th>\n",
              "      <th></th>\n",
              "      <th></th>\n",
              "      <th></th>\n",
              "      <th></th>\n",
              "      <th></th>\n",
              "      <th></th>\n",
              "      <th></th>\n",
              "      <th></th>\n",
              "    </tr>\n",
              "  </thead>\n",
              "  <tbody>\n",
              "    <tr>\n",
              "      <th>smote_no_RFE_ITEM_CONUT_</th>\n",
              "      <th>rf</th>\n",
              "      <td>0</td>\n",
              "      <td>0.999859</td>\n",
              "      <td>0.999812</td>\n",
              "      <td>0.999906</td>\n",
              "      <td>0.999859</td>\n",
              "      <td>0.950360</td>\n",
              "      <td>0.762076</td>\n",
              "      <td>0.568585</td>\n",
              "      <td>0.651263</td>\n",
              "    </tr>\n",
              "    <tr>\n",
              "      <th>smote_no_RFE_QUANTITY_4_</th>\n",
              "      <th>rf</th>\n",
              "      <td>0</td>\n",
              "      <td>0.999859</td>\n",
              "      <td>0.999812</td>\n",
              "      <td>0.999906</td>\n",
              "      <td>0.999859</td>\n",
              "      <td>0.949877</td>\n",
              "      <td>0.757554</td>\n",
              "      <td>0.566434</td>\n",
              "      <td>0.648199</td>\n",
              "    </tr>\n",
              "    <tr>\n",
              "      <th rowspan=\"2\" valign=\"top\">smo_tl_no_RFE_ITEM_CONUT_RFE_QUANTITY_4_</th>\n",
              "      <th>rf</th>\n",
              "      <td>0</td>\n",
              "      <td>0.999859</td>\n",
              "      <td>0.999882</td>\n",
              "      <td>0.999835</td>\n",
              "      <td>0.999859</td>\n",
              "      <td>0.949746</td>\n",
              "      <td>0.755190</td>\n",
              "      <td>0.567509</td>\n",
              "      <td>0.648034</td>\n",
              "    </tr>\n",
              "    <tr>\n",
              "      <th>rf</th>\n",
              "      <td>0</td>\n",
              "      <td>0.999859</td>\n",
              "      <td>0.999882</td>\n",
              "      <td>0.999835</td>\n",
              "      <td>0.999859</td>\n",
              "      <td>0.949746</td>\n",
              "      <td>0.755190</td>\n",
              "      <td>0.567509</td>\n",
              "      <td>0.648034</td>\n",
              "    </tr>\n",
              "    <tr>\n",
              "      <th rowspan=\"2\" valign=\"top\">smote_no_RFE_ITEM_CONUT_RFE_QUANTITY_4_</th>\n",
              "      <th>rf</th>\n",
              "      <td>0</td>\n",
              "      <td>0.999859</td>\n",
              "      <td>0.999812</td>\n",
              "      <td>0.999906</td>\n",
              "      <td>0.999859</td>\n",
              "      <td>0.949614</td>\n",
              "      <td>0.753210</td>\n",
              "      <td>0.568047</td>\n",
              "      <td>0.647654</td>\n",
              "    </tr>\n",
              "    <tr>\n",
              "      <th>rf</th>\n",
              "      <td>0</td>\n",
              "      <td>0.999859</td>\n",
              "      <td>0.999812</td>\n",
              "      <td>0.999906</td>\n",
              "      <td>0.999859</td>\n",
              "      <td>0.949614</td>\n",
              "      <td>0.753210</td>\n",
              "      <td>0.568047</td>\n",
              "      <td>0.647654</td>\n",
              "    </tr>\n",
              "    <tr>\n",
              "      <th>smo_tl_no_RFE_QUANTITY_5_</th>\n",
              "      <th>rf</th>\n",
              "      <td>0</td>\n",
              "      <td>0.999859</td>\n",
              "      <td>0.999882</td>\n",
              "      <td>0.999835</td>\n",
              "      <td>0.999859</td>\n",
              "      <td>0.949833</td>\n",
              "      <td>0.757751</td>\n",
              "      <td>0.565358</td>\n",
              "      <td>0.647566</td>\n",
              "    </tr>\n",
              "    <tr>\n",
              "      <th>smote_no_RFE_QUANTITY_5_</th>\n",
              "      <th>rf</th>\n",
              "      <td>0</td>\n",
              "      <td>0.999859</td>\n",
              "      <td>0.999835</td>\n",
              "      <td>0.999882</td>\n",
              "      <td>0.999859</td>\n",
              "      <td>0.949439</td>\n",
              "      <td>0.750000</td>\n",
              "      <td>0.569661</td>\n",
              "      <td>0.647508</td>\n",
              "    </tr>\n",
              "    <tr>\n",
              "      <th>smo_tl_no_RFE_ITEM_CONUT_</th>\n",
              "      <th>rf</th>\n",
              "      <td>0</td>\n",
              "      <td>0.999859</td>\n",
              "      <td>0.999882</td>\n",
              "      <td>0.999835</td>\n",
              "      <td>0.999859</td>\n",
              "      <td>0.949833</td>\n",
              "      <td>0.758123</td>\n",
              "      <td>0.564820</td>\n",
              "      <td>0.647349</td>\n",
              "    </tr>\n",
              "    <tr>\n",
              "      <th>smo_tl</th>\n",
              "      <th>rf</th>\n",
              "      <td>0</td>\n",
              "      <td>0.999859</td>\n",
              "      <td>0.999882</td>\n",
              "      <td>0.999835</td>\n",
              "      <td>0.999859</td>\n",
              "      <td>0.949483</td>\n",
              "      <td>0.751601</td>\n",
              "      <td>0.568047</td>\n",
              "      <td>0.647059</td>\n",
              "    </tr>\n",
              "    <tr>\n",
              "      <th>smote</th>\n",
              "      <th>rf</th>\n",
              "      <td>0</td>\n",
              "      <td>0.999859</td>\n",
              "      <td>0.999812</td>\n",
              "      <td>0.999906</td>\n",
              "      <td>0.999859</td>\n",
              "      <td>0.949658</td>\n",
              "      <td>0.758170</td>\n",
              "      <td>0.561592</td>\n",
              "      <td>0.645241</td>\n",
              "    </tr>\n",
              "    <tr>\n",
              "      <th>smo_tl_no_RFE_QUANTITY_4_</th>\n",
              "      <th>rf</th>\n",
              "      <td>0</td>\n",
              "      <td>0.999859</td>\n",
              "      <td>0.999882</td>\n",
              "      <td>0.999835</td>\n",
              "      <td>0.999859</td>\n",
              "      <td>0.949000</td>\n",
              "      <td>0.751809</td>\n",
              "      <td>0.558903</td>\n",
              "      <td>0.641160</td>\n",
              "    </tr>\n",
              "  </tbody>\n",
              "</table>\n",
              "</div>"
            ],
            "text/plain": [
              "                                                Unnamed: 0  ...  Test_fscore\n",
              "Model_version                            Model              ...             \n",
              "smote_no_RFE_ITEM_CONUT_                 rf              0  ...     0.651263\n",
              "smote_no_RFE_QUANTITY_4_                 rf              0  ...     0.648199\n",
              "smo_tl_no_RFE_ITEM_CONUT_RFE_QUANTITY_4_ rf              0  ...     0.648034\n",
              "                                         rf              0  ...     0.648034\n",
              "smote_no_RFE_ITEM_CONUT_RFE_QUANTITY_4_  rf              0  ...     0.647654\n",
              "                                         rf              0  ...     0.647654\n",
              "smo_tl_no_RFE_QUANTITY_5_                rf              0  ...     0.647566\n",
              "smote_no_RFE_QUANTITY_5_                 rf              0  ...     0.647508\n",
              "smo_tl_no_RFE_ITEM_CONUT_                rf              0  ...     0.647349\n",
              "smo_tl                                   rf              0  ...     0.647059\n",
              "smote                                    rf              0  ...     0.645241\n",
              "smo_tl_no_RFE_QUANTITY_4_                rf              0  ...     0.641160\n",
              "\n",
              "[12 rows x 9 columns]"
            ]
          },
          "metadata": {
            "tags": []
          },
          "execution_count": 55
        }
      ]
    },
    {
      "cell_type": "markdown",
      "metadata": {
        "id": "vPwpjM-yZa4G"
      },
      "source": [
        "Unlike with RFE_QUANTITY_5, removing only RFE_ITEM CONUT and only RFE_QUANTITY_4 both led to improvements in the model.\n",
        "\n",
        "Therefore, we also looked at removing both RFE_ITEM_CONUT and RFE_QUANITYT_4, though that did not peform as well.\n",
        "\n",
        "Our best model happens to be a random forest algorithm trained on SMOTE balanced data with only RFE_ITEM_CONUT removed, and this will be our final model."
      ]
    },
    {
      "cell_type": "markdown",
      "metadata": {
        "id": "mV0vF1wePZdK"
      },
      "source": [
        "## Final models"
      ]
    },
    {
      "cell_type": "markdown",
      "metadata": {
        "id": "fPyvd6URNtOn"
      },
      "source": [
        "Here will train our final model."
      ]
    },
    {
      "cell_type": "code",
      "metadata": {
        "colab": {
          "base_uri": "https://localhost:8080/"
        },
        "id": "yuLDanXoQkBD",
        "outputId": "76885255-26c5-4362-cd5d-37b7b357118f"
      },
      "source": [
        "  df_with_dropped = smote_x_rf.drop('RFE_ITEM_CONUT', axis=1)\n",
        "  fin_mod = RandomForestClassifier(random_state=RANDOM_STATE)\n",
        "  fin_mod.fit(df_with_dropped,smote_y_rf)"
      ],
      "execution_count": 63,
      "outputs": [
        {
          "output_type": "execute_result",
          "data": {
            "text/plain": [
              "RandomForestClassifier(bootstrap=True, ccp_alpha=0.0, class_weight=None,\n",
              "                       criterion='gini', max_depth=None, max_features='auto',\n",
              "                       max_leaf_nodes=None, max_samples=None,\n",
              "                       min_impurity_decrease=0.0, min_impurity_split=None,\n",
              "                       min_samples_leaf=1, min_samples_split=2,\n",
              "                       min_weight_fraction_leaf=0.0, n_estimators=100,\n",
              "                       n_jobs=None, oob_score=False, random_state=99, verbose=0,\n",
              "                       warm_start=False)"
            ]
          },
          "metadata": {
            "tags": []
          },
          "execution_count": 63
        }
      ]
    },
    {
      "cell_type": "markdown",
      "metadata": {
        "id": "qeUTI7V-b_OD"
      },
      "source": [
        "# Looking at variable effects on IS_SUBMIT_ESTIMATE\n"
      ]
    },
    {
      "cell_type": "markdown",
      "metadata": {
        "id": "twI5aBK1VSgo"
      },
      "source": [
        "With our model built, we can look into some of the important variables and how they affect the probability of IS_SUBMIT_ESTIMATE.  This will all be done with the original, unchanged dataframe.\n",
        "\n",
        "We can look at the top 4 categories from the feature engineering section, which would be supplier, PROPOSED_COMPLETION_HOURS, ESTIMATE_DUE_HOURS, and RFE_QUANTITY_1."
      ]
    },
    {
      "cell_type": "markdown",
      "metadata": {
        "id": "5wk6i080U_UP"
      },
      "source": [
        "## Supplier"
      ]
    },
    {
      "cell_type": "markdown",
      "metadata": {
        "id": "oxocaRmlVENc"
      },
      "source": [
        "As it seems to be the most important variable, we will take a look at the supplier ID's and their effects on IS_SUBMIT_ESTIMATE first.\n",
        "\n",
        "As there are so many different supplier IDs, we will only look at the suppliers that have more than 500 instances, which happens to be the top 25 most common suppliers."
      ]
    },
    {
      "cell_type": "code",
      "metadata": {
        "colab": {
          "base_uri": "https://localhost:8080/"
        },
        "id": "jXJj8mRfWH2C",
        "outputId": "92411601-2321-4807-eba0-d797ff5dd16e"
      },
      "source": [
        "print(f'Number of different SUPPLIER_USER_IDs in the dataset is {len(set(df.SUPPLIER_USER_ID))}')"
      ],
      "execution_count": 91,
      "outputs": [
        {
          "output_type": "stream",
          "text": [
            "Number of different SUPPLIER_USER_IDs in the dataset is 358\n"
          ],
          "name": "stdout"
        }
      ]
    },
    {
      "cell_type": "code",
      "metadata": {
        "id": "hDGAhOBEcEPB"
      },
      "source": [
        "# taken out 'supplier' from the variable so it is easier to read when plotted\n",
        "df['SUPPLIER_USER_ID'] = [i[:7] for i in df['SUPPLIER_USER_ID']]"
      ],
      "execution_count": 129,
      "outputs": []
    },
    {
      "cell_type": "code",
      "metadata": {
        "id": "RqePsLnZReRw"
      },
      "source": [
        "# get all supplier ids that occur more than 500 times\n",
        "\n",
        "\n",
        "sup_counts = df.SUPPLIER_USER_ID.value_counts()\n",
        "sup_counts = sup_counts[sup_counts > 500]"
      ],
      "execution_count": 130,
      "outputs": []
    },
    {
      "cell_type": "code",
      "metadata": {
        "id": "VPACLUleReLW"
      },
      "source": [
        "# get df with supplier ids and IS_SUBMIT_ESTMATE\n",
        "# from the ids taken above\n",
        "sup_df = df[df.SUPPLIER_USER_ID.isin(sup_counts.index)][['SUPPLIER_USER_ID', 'IS_SUBMIT_ESTIMATE']]"
      ],
      "execution_count": 131,
      "outputs": []
    },
    {
      "cell_type": "code",
      "metadata": {
        "id": "BoMwVJdE6RP9",
        "colab": {
          "base_uri": "https://localhost:8080/",
          "height": 777
        },
        "outputId": "0b45b830-5a79-4c9e-9564-35ad20f212eb"
      },
      "source": [
        "plt.figure(figsize = (15,12))\n",
        "ax = sns.lineplot(x=sup_df.SUPPLIER_USER_ID,\n",
        "                  y=sup_df.IS_SUBMIT_ESTIMATE, ci = None)\n",
        "for ticker in ax.get_xticklabels():\n",
        "  ticker.set_rotation(45)\n",
        "plt.title('Percentage of RFEs where supplier returned an estimate, by supplier')"
      ],
      "execution_count": 135,
      "outputs": [
        {
          "output_type": "execute_result",
          "data": {
            "text/plain": [
              "Text(0.5, 1.0, 'Percentage of RFEs where supplier returned an estimate, by supplier')"
            ]
          },
          "metadata": {
            "tags": []
          },
          "execution_count": 135
        },
        {
          "output_type": "display_data",
          "data": {
            "image/png": "[encoded data removed]",
            "text/plain": [
              "<Figure size 1080x864 with 1 Axes>"
            ]
          },
          "metadata": {
            "tags": [],
            "needs_background": "light"
          }
        }
      ]
    },
    {
      "cell_type": "markdown",
      "metadata": {
        "id": "G5M8sv0zc_Ob"
      },
      "source": [
        "From this plot, we can see, for each supplier, the percentage of RFE's that have a IS_SUBMIT_RESPONSE of 1.  The most consistent supplier ID's are 5538015, 5451237, and 5555522.\n",
        "\n"
      ]
    },
    {
      "cell_type": "markdown",
      "metadata": {
        "id": "jmqYxtNVeDzi"
      },
      "source": [
        "# RFE_QUANTITY_1"
      ]
    },
    {
      "cell_type": "markdown",
      "metadata": {
        "id": "ysVWe3RQftmt"
      },
      "source": [
        "Since this quantity is a numerical variable, the line plot from above won't work as well, so we will bin the variables and use the lineplot on those bins. "
      ]
    },
    {
      "cell_type": "code",
      "metadata": {
        "colab": {
          "base_uri": "https://localhost:8080/",
          "height": 297
        },
        "id": "mqdLQLybfoSX",
        "outputId": "30f194c0-f79c-46ea-e230-a4034803627e"
      },
      "source": [
        "df.describe()"
      ],
      "execution_count": 143,
      "outputs": [
        {
          "output_type": "execute_result",
          "data": {
            "text/html": [
              "<div>\n",
              "<style scoped>\n",
              "    .dataframe tbody tr th:only-of-type {\n",
              "        vertical-align: middle;\n",
              "    }\n",
              "\n",
              "    .dataframe tbody tr th {\n",
              "        vertical-align: top;\n",
              "    }\n",
              "\n",
              "    .dataframe thead th {\n",
              "        text-align: right;\n",
              "    }\n",
              "</style>\n",
              "<table border=\"1\" class=\"dataframe\">\n",
              "  <thead>\n",
              "    <tr style=\"text-align: right;\">\n",
              "      <th></th>\n",
              "      <th>PROPOSED_COMPLETION_HOURS</th>\n",
              "      <th>ESTIMATE_DUE_HOURS</th>\n",
              "      <th>RFE_ITEM_CONUT</th>\n",
              "      <th>RFE_QUANTITY_1</th>\n",
              "      <th>RFE_QUANTITY_2</th>\n",
              "      <th>RFE_QUANTITY_3</th>\n",
              "      <th>RFE_QUANTITY_4</th>\n",
              "      <th>RFE_QUANTITY_5</th>\n",
              "      <th>IS_SUBMIT_ESTIMATE</th>\n",
              "    </tr>\n",
              "  </thead>\n",
              "  <tbody>\n",
              "    <tr>\n",
              "      <th>count</th>\n",
              "      <td>68423.000000</td>\n",
              "      <td>68423.000000</td>\n",
              "      <td>69101.000000</td>\n",
              "      <td>69101.000000</td>\n",
              "      <td>1.949000e+04</td>\n",
              "      <td>9580.000000</td>\n",
              "      <td>3156.000000</td>\n",
              "      <td>360.000000</td>\n",
              "      <td>69101.000000</td>\n",
              "    </tr>\n",
              "    <tr>\n",
              "      <th>mean</th>\n",
              "      <td>1386.057758</td>\n",
              "      <td>85.748067</td>\n",
              "      <td>1.023097</td>\n",
              "      <td>34818.207247</td>\n",
              "      <td>3.677723e+04</td>\n",
              "      <td>34453.563987</td>\n",
              "      <td>36070.888466</td>\n",
              "      <td>11681.472222</td>\n",
              "      <td>0.081793</td>\n",
              "    </tr>\n",
              "    <tr>\n",
              "      <th>std</th>\n",
              "      <td>844.253928</td>\n",
              "      <td>54.569768</td>\n",
              "      <td>0.150212</td>\n",
              "      <td>92428.755904</td>\n",
              "      <td>1.249910e+05</td>\n",
              "      <td>68529.517224</td>\n",
              "      <td>71840.947926</td>\n",
              "      <td>13051.385968</td>\n",
              "      <td>0.274052</td>\n",
              "    </tr>\n",
              "    <tr>\n",
              "      <th>min</th>\n",
              "      <td>22.000000</td>\n",
              "      <td>0.000000</td>\n",
              "      <td>1.000000</td>\n",
              "      <td>1.000000</td>\n",
              "      <td>2.000000e+00</td>\n",
              "      <td>3.000000</td>\n",
              "      <td>4.000000</td>\n",
              "      <td>5.000000</td>\n",
              "      <td>0.000000</td>\n",
              "    </tr>\n",
              "    <tr>\n",
              "      <th>25%</th>\n",
              "      <td>798.000000</td>\n",
              "      <td>48.000000</td>\n",
              "      <td>1.000000</td>\n",
              "      <td>1691.000000</td>\n",
              "      <td>1.500000e+03</td>\n",
              "      <td>1000.000000</td>\n",
              "      <td>1000.000000</td>\n",
              "      <td>100.000000</td>\n",
              "      <td>0.000000</td>\n",
              "    </tr>\n",
              "    <tr>\n",
              "      <th>50%</th>\n",
              "      <td>1226.000000</td>\n",
              "      <td>73.000000</td>\n",
              "      <td>1.000000</td>\n",
              "      <td>6000.000000</td>\n",
              "      <td>6.300000e+03</td>\n",
              "      <td>5000.000000</td>\n",
              "      <td>6000.000000</td>\n",
              "      <td>7000.000000</td>\n",
              "      <td>0.000000</td>\n",
              "    </tr>\n",
              "    <tr>\n",
              "      <th>75%</th>\n",
              "      <td>1781.000000</td>\n",
              "      <td>116.000000</td>\n",
              "      <td>1.000000</td>\n",
              "      <td>20000.000000</td>\n",
              "      <td>2.000000e+04</td>\n",
              "      <td>30000.000000</td>\n",
              "      <td>30000.000000</td>\n",
              "      <td>9000.000000</td>\n",
              "      <td>0.000000</td>\n",
              "    </tr>\n",
              "    <tr>\n",
              "      <th>max</th>\n",
              "      <td>9791.000000</td>\n",
              "      <td>504.000000</td>\n",
              "      <td>2.000000</td>\n",
              "      <td>800000.000000</td>\n",
              "      <td>1.244000e+06</td>\n",
              "      <td>500000.000000</td>\n",
              "      <td>380000.000000</td>\n",
              "      <td>35000.000000</td>\n",
              "      <td>1.000000</td>\n",
              "    </tr>\n",
              "  </tbody>\n",
              "</table>\n",
              "</div>"
            ],
            "text/plain": [
              "       PROPOSED_COMPLETION_HOURS  ...  IS_SUBMIT_ESTIMATE\n",
              "count               68423.000000  ...        69101.000000\n",
              "mean                 1386.057758  ...            0.081793\n",
              "std                   844.253928  ...            0.274052\n",
              "min                    22.000000  ...            0.000000\n",
              "25%                   798.000000  ...            0.000000\n",
              "50%                  1226.000000  ...            0.000000\n",
              "75%                  1781.000000  ...            0.000000\n",
              "max                  9791.000000  ...            1.000000\n",
              "\n",
              "[8 rows x 9 columns]"
            ]
          },
          "metadata": {
            "tags": []
          },
          "execution_count": 143
        }
      ]
    },
    {
      "cell_type": "markdown",
      "metadata": {
        "id": "YiciI7hvfAwZ"
      },
      "source": [
        "From the above, we see that the max RFE_QUANTITY_1 is 800,000 and the minimum is 1.  So by using 8 bins, the observations will be grouped together by 100,000.\n",
        "For example, all observations with quantity between 0 and 100,000 will be grouped together.  This will make it easier to read a lineplot.\n",
        "\n",
        "We will look at the plots binning with 8 and 16."
      ]
    },
    {
      "cell_type": "code",
      "metadata": {
        "colab": {
          "base_uri": "https://localhost:8080/",
          "height": 422
        },
        "id": "nXsCRwC2gH-d",
        "outputId": "3fc6db3a-de6e-43f9-babe-f9f22fe2f3dc"
      },
      "source": [
        "plt.figure(figsize = (10,6))\n",
        "plt.subplot(2,1,1)\n",
        "plt.subplots_adjust(hspace=.4)\n",
        "sns.lineplot(x=pd.cut(df.RFE_QUANTITY_1, 8,\n",
        "                      labels=['0s', '100ks', '200ks', '300ks', '400ks',\n",
        "                              '500ks', '600ks', '700ks']),\n",
        "             y=df.IS_SUBMIT_ESTIMATE, ci=None)\n",
        "plt.ylim([0, .15])\n",
        "plt.ylabel('% RFEs that received estimate')\n",
        "plt.title('Binning by 100,000s for quantity')\n",
        "plt.subplot(2,1,2)\n",
        "sns.lineplot(x=pd.cut(df.RFE_QUANTITY_1, 16,\n",
        "                      labels=['0s', '50ks', '100ks', '150ks', '200ks', '250ks',\n",
        "                              '300ks', '350ks', '400ks', '450ks', '500ks',\n",
        "                              '550ks', '600ks', '650ks', '700ks', '750ks']),\n",
        "             y=df.IS_SUBMIT_ESTIMATE, ci=None)\n",
        "plt.ylim([0, .15])\n",
        "plt.ylabel('% RFEs that received estimate')\n",
        "plt.title('Binning by 50,000s for quantity')"
      ],
      "execution_count": 163,
      "outputs": [
        {
          "output_type": "execute_result",
          "data": {
            "text/plain": [
              "Text(0.5, 1.0, 'Binning by 50,000s for quantity')"
            ]
          },
          "metadata": {
            "tags": []
          },
          "execution_count": 163
        },
        {
          "output_type": "display_data",
          "data": {
            "image/png": "[encoded data removed]",
            "text/plain": [
              "<Figure size 720x432 with 2 Axes>"
            ]
          },
          "metadata": {
            "tags": [],
            "needs_background": "light"
          }
        }
      ]
    },
    {
      "cell_type": "markdown",
      "metadata": {
        "id": "QefeH5qniAET"
      },
      "source": [
        "From the above, we can see the percentage of of RFEs that received an estimate from suppliers.  We can see that the an RFE with around 200,000s quantity recieve the most responses. while 150,000s, 350,000s, and 600,000s receive the least."
      ]
    },
    {
      "cell_type": "markdown",
      "metadata": {
        "id": "saw-RkQVix-b"
      },
      "source": [
        "##  PROPOSED_COMPLETION_HOURS"
      ]
    },
    {
      "cell_type": "markdown",
      "metadata": {
        "id": "OSB3Dk1HjDEa"
      },
      "source": [
        "We can use similar steps for PROPOSED_COMPLETION_HOURS as we did with quantity.\n",
        "\n",
        "However, we must also fill in the missing variables for this category.\n",
        "\n",
        "As this variable ranges from 22 to 9791, we can split it into 10 or 20 bins, so it is by roughly 500 or 1000."
      ]
    },
    {
      "cell_type": "code",
      "metadata": {
        "id": "HHYpscq6mbuc"
      },
      "source": [
        "values = {'PROPOSED_COMPLETION_HOURS' : df['PROPOSED_COMPLETION_HOURS'].mean(),\n",
        "          'ESTIMATE_DUE_HOURS' : df['ESTIMATE_DUE_HOURS'].mean()}\n",
        "\n",
        "df = df.fillna(value=values)"
      ],
      "execution_count": 178,
      "outputs": []
    },
    {
      "cell_type": "code",
      "metadata": {
        "colab": {
          "base_uri": "https://localhost:8080/",
          "height": 422
        },
        "id": "T4Nh4ad_jDzO",
        "outputId": "fa18714d-557a-4436-cb16-2e8b8690d910"
      },
      "source": [
        "plt.figure(figsize = (10,6))\n",
        "plt.subplot(2,1,1)\n",
        "plt.subplots_adjust(hspace=.4)\n",
        "ax = sns.lineplot(x=pd.cut(df.PROPOSED_COMPLETION_HOURS, 10,\n",
        "                      labels=['0s', '100s', '200s', '300s', '400s', '500s',\n",
        "                              '600s', '700s', '800s', '900s']),\n",
        "             y=df.IS_SUBMIT_ESTIMATE, ci=None)\n",
        "plt.ylim([0, .15])\n",
        "plt.ylabel('% RFEs that received estimate')\n",
        "plt.title('Binning by 100s for proposed completion hours')\n",
        "plt.subplot(2,1,2)\n",
        "sns.lineplot(x=pd.cut(df.PROPOSED_COMPLETION_HOURS, 20,\n",
        "                      labels=['0s', '50s', '100s', '150s', '200s', '250s',\n",
        "                              '300s', '350s', '400s', '450s', '500s',\n",
        "                              '550s', '600s', '650s', '700s', '750s',\n",
        "                              '800s', '850s', '900s', '950s']),\n",
        "             y=df.IS_SUBMIT_ESTIMATE, ci=None)\n",
        "plt.ylim([0, .15])\n",
        "plt.ylabel('% RFEs that received estimate')\n",
        "plt.title('Binning by 50s for proposed completion hours')"
      ],
      "execution_count": 180,
      "outputs": [
        {
          "output_type": "execute_result",
          "data": {
            "text/plain": [
              "Text(0.5, 1.0, 'Binning by 50,000s for quantity')"
            ]
          },
          "metadata": {
            "tags": []
          },
          "execution_count": 180
        },
        {
          "output_type": "display_data",
          "data": {
            "image/png": "[encoded data removed]",
            "text/plain": [
              "<Figure size 720x432 with 2 Axes>"
            ]
          },
          "metadata": {
            "tags": [],
            "needs_background": "light"
          }
        }
      ]
    },
    {
      "cell_type": "code",
      "metadata": {
        "colab": {
          "base_uri": "https://localhost:8080/"
        },
        "id": "jRQ-JbqBlpVx",
        "outputId": "2d7d59e7-f760-4ec1-cf1e-78f2f1bd62ed"
      },
      "source": [
        "np.percentile(df.PROPOSED_COMPLETION_HOURS, 80)"
      ],
      "execution_count": 179,
      "outputs": [
        {
          "output_type": "execute_result",
          "data": {
            "text/plain": [
              "1946.0"
            ]
          },
          "metadata": {
            "tags": []
          },
          "execution_count": 179
        }
      ]
    },
    {
      "cell_type": "markdown",
      "metadata": {
        "id": "63aWNO_Xm1vQ"
      },
      "source": [
        "## ESTIMATE_DUE_HOURS\n"
      ]
    },
    {
      "cell_type": "markdown",
      "metadata": {
        "id": "AmQ5MhnTm7MT"
      },
      "source": [
        "Lastly, we will look at estimate due hours.  This ranges from 0 to 504, so we can do 5 or 10 bins to go by 100s or 50s."
      ]
    },
    {
      "cell_type": "code",
      "metadata": {
        "id": "Wzo-Mok2oGKp"
      },
      "source": [
        "plt.subplot(2,1,1)\n",
        "plt.subplots_adjust(hspace=.4)\n",
        "ax = sns.lineplot(x=pd.cut(df.ESTIMATE_DUE_HOURS[], 5,\n",
        "                      labels=['0s', '100s', '200s', '300s', '400s']),\n",
        "             y=df.IS_SUBMIT_ESTIMATE, ci=None)\n",
        "plt.ylim([0, .15])\n",
        "plt.ylabel('% RFEs that received estimate')\n",
        "plt.title('Binning by 100s for estimate due hours')')"
      ],
      "execution_count": null,
      "outputs": []
    },
    {
      "cell_type": "code",
      "metadata": {
        "colab": {
          "base_uri": "https://localhost:8080/",
          "height": 422
        },
        "id": "yjvZ9B_IYrBD",
        "outputId": "23c8f6d7-85e1-44aa-8c45-16874d6adf31"
      },
      "source": [
        "plt.figure(figsize = (10,6))\n",
        "plt.subplot(2,1,1)\n",
        "plt.subplots_adjust(hspace=.4)\n",
        "ax = sns.lineplot(x=pd.cut(df.ESTIMATE_DUE_HOURS, 5,\n",
        "                      labels=['0s', '100s', '200s', '300s', '400s']),\n",
        "             y=df.IS_SUBMIT_ESTIMATE, ci=None)\n",
        "plt.ylim([0, .15])\n",
        "plt.ylabel('% RFEs that received estimate')\n",
        "plt.title('Binning by 100s for estimate due hours')')\n",
        "plt.subplot(2,1,2)\n",
        "sns.lineplot(x=pd.cut(df.ESTIMATE_DUE_HOURS, 10,\n",
        "                      labels=['0s', '50s', '100s', '150s', '200s', '250s',\n",
        "                              '300s', '350s', '400s', '450s']),\n",
        "             y=df.IS_SUBMIT_ESTIMATE, ci=None)\n",
        "plt.ylim([0, .15])\n",
        "plt.ylabel('% RFEs that received estimate')\n",
        "plt.title('Binning by 50s for estimate due hours')"
      ],
      "execution_count": 183,
      "outputs": [
        {
          "output_type": "execute_result",
          "data": {
            "text/plain": [
              "Text(0.5, 1.0, 'Binning by 50,000s for quantity')"
            ]
          },
          "metadata": {
            "tags": []
          },
          "execution_count": 183
        },
        {
          "output_type": "display_data",
          "data": {
            "image/png": "[encoded data removed]",
            "text/plain": [
              "<Figure size 720x432 with 2 Axes>"
            ]
          },
          "metadata": {
            "tags": [],
            "needs_background": "light"
          }
        }
      ]
    },
    {
      "cell_type": "markdown",
      "metadata": {
        "id": "OP-Qtx3lnupk"
      },
      "source": [
        "Here we can see how the percentage of RFEs that receive an estimate decreases the more the estimate hour increases."
      ]
    }
  ]
}